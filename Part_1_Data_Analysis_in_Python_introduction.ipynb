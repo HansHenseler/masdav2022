{
  "nbformat": 4,
  "nbformat_minor": 0,
  "metadata": {
    "colab": {
      "name": "Part 1 Data Analysis in Python introduction.ipynb",
      "provenance": [],
      "collapsed_sections": [
        "nIfaR31T8Qcb",
        "Lo-AFouA1UIo",
        "z4jt2PbVzqVB",
        "pasaP5RbyExW",
        "LaYmywfvfN8a",
        "2f1EIQk41_cP",
        "66BLClud3Onb",
        "xZspxb6M4JW5"
      ],
      "toc_visible": true,
      "authorship_tag": "ABX9TyOuTRh2x7/V3yvl9MLIpI0H",
      "include_colab_link": true
    },
    "kernelspec": {
      "name": "python3",
      "display_name": "Python 3"
    },
    "language_info": {
      "name": "python"
    }
  },
  "cells": [
    {
      "cell_type": "markdown",
      "metadata": {
        "id": "view-in-github",
        "colab_type": "text"
      },
      "source": [
        "<a href=\"https://colab.research.google.com/github/HansHenseler/masdav/blob/main/Part_1_Data_Analysis_in_Python_introduction.ipynb\" target=\"_parent\"><img src=\"https://colab.research.google.com/assets/colab-badge.svg\" alt=\"Open In Colab\"/></a>"
      ]
    },
    {
      "cell_type": "markdown",
      "metadata": {
        "id": "RLdnjTDw2FZv"
      },
      "source": [
        "# Python for Data Analysis introduction\n",
        "\n",
        "Master of Advanced Studies in Digital Forensics & Cyber Investigation\n",
        "\n",
        "Data Analytics and Visualization for Digital Forensics\n",
        "\n",
        "(c) Hans Henseler, 2021\n",
        "\n",
        "This exercise starts with examples of most common data analysis tasks with Python, from the features of Python itself to using modules like Pandas with a few exercises that you can try to accomplish yourself."
      ]
    },
    {
      "cell_type": "markdown",
      "metadata": {
        "id": "nP-a0acO_lMw"
      },
      "source": [
        "# Part 1"
      ]
    },
    {
      "cell_type": "markdown",
      "metadata": {
        "id": "x8bNCImD3PLl"
      },
      "source": [
        "## 1 A Note About Python Versions\n",
        "All examples in this cheat sheet use Python 3. We recommend using the latest stable version of Python, for example, Python 3.8. You can check which version you have installed on your machine by running the following command in the system shell:"
      ]
    },
    {
      "cell_type": "code",
      "metadata": {
        "colab": {
          "base_uri": "https://localhost:8080/"
        },
        "id": "9qUgB5w-12ev",
        "outputId": "4b20b787-7582-4ee7-9ece-1bcd7f232608"
      },
      "source": [
        "!python --version"
      ],
      "execution_count": null,
      "outputs": [
        {
          "output_type": "stream",
          "text": [
            "Python 3.7.11\n"
          ],
          "name": "stdout"
        }
      ]
    },
    {
      "cell_type": "markdown",
      "metadata": {
        "id": "jExGb4aA3sLG"
      },
      "source": [
        "## 2 Libraries and Imports\n",
        "The easiest way to install Python modules that are needed for data analysis is to use pip. Installing NumPy and Pandas takes only a few seconds. In colab these libraries come pre installed. Once you’ve installed the modules, use the import statement to make the modules available in your program:"
      ]
    },
    {
      "cell_type": "code",
      "metadata": {
        "id": "4ReZzLXr38Q5"
      },
      "source": [
        "import numpy as np\n",
        "import pandas as pd\n"
      ],
      "execution_count": null,
      "outputs": []
    },
    {
      "cell_type": "markdown",
      "metadata": {
        "id": "YzeElMYt4IV-"
      },
      "source": [
        "## 3 Getting Help With Python Data Analysis Functions\n",
        "If you get stuck,the Google Colab interface offers context sensitive help when you are typing code. In other situations the built-in Python docs are a great place to check for tips and ways to solve the problem. The Python help() function displays the help article for a method or a class."
      ]
    },
    {
      "cell_type": "markdown",
      "metadata": {
        "id": "y8qQZe3g5McT"
      },
      "source": [
        "## 4 Working with data sources\n",
        "Pandas provides a number of easy-to-use data import methods, including CSV and TSV import, copying from the system clipboard, and reading and writing JSON files. This is sufficient for most Python data analysis tasks:"
      ]
    },
    {
      "cell_type": "code",
      "metadata": {
        "colab": {
          "base_uri": "https://localhost:8080/",
          "height": 773
        },
        "id": "jVbC5_xP4opF",
        "outputId": "6d8cb99c-c090-4c77-8456-2bfa38d7d90a"
      },
      "source": [
        "df = pd.read_excel('DirPrint_Filelist - clean.xlsx')\n",
        "df"
      ],
      "execution_count": null,
      "outputs": [
        {
          "output_type": "execute_result",
          "data": {
            "text/html": [
              "<div>\n",
              "<style scoped>\n",
              "    .dataframe tbody tr th:only-of-type {\n",
              "        vertical-align: middle;\n",
              "    }\n",
              "\n",
              "    .dataframe tbody tr th {\n",
              "        vertical-align: top;\n",
              "    }\n",
              "\n",
              "    .dataframe thead th {\n",
              "        text-align: right;\n",
              "    }\n",
              "</style>\n",
              "<table border=\"1\" class=\"dataframe\">\n",
              "  <thead>\n",
              "    <tr style=\"text-align: right;\">\n",
              "      <th></th>\n",
              "      <th>Attributes</th>\n",
              "      <th>Created</th>\n",
              "      <th>LastMod</th>\n",
              "      <th>LastAcc</th>\n",
              "      <th>Size</th>\n",
              "      <th>Name</th>\n",
              "      <th>Path</th>\n",
              "      <th>Folder</th>\n",
              "      <th>Ext</th>\n",
              "      <th>Md5</th>\n",
              "    </tr>\n",
              "  </thead>\n",
              "  <tbody>\n",
              "    <tr>\n",
              "      <th>0</th>\n",
              "      <td>---A----</td>\n",
              "      <td>2021-01-05 19:19:00</td>\n",
              "      <td>2021-01-05 19:19:00</td>\n",
              "      <td>2021-08-12 20:58:00</td>\n",
              "      <td>22639</td>\n",
              "      <td>aksdrvsetup.log</td>\n",
              "      <td>C:\\Windows\\aksdrvsetup.log</td>\n",
              "      <td>C:\\Windows\\</td>\n",
              "      <td>log</td>\n",
              "      <td>50D08E904772E94EB4B16817EB5BE4F1</td>\n",
              "    </tr>\n",
              "    <tr>\n",
              "      <th>1</th>\n",
              "      <td>NaN</td>\n",
              "      <td>2021-04-22 19:57:00</td>\n",
              "      <td>2021-04-22 19:57:00</td>\n",
              "      <td>2021-08-12 20:58:00</td>\n",
              "      <td>77824</td>\n",
              "      <td>bfsvc.exe</td>\n",
              "      <td>C:\\Windows\\bfsvc.exe</td>\n",
              "      <td>C:\\Windows\\</td>\n",
              "      <td>exe</td>\n",
              "      <td>862251351EC170BB3BD59CB219491811</td>\n",
              "    </tr>\n",
              "    <tr>\n",
              "      <th>2</th>\n",
              "      <td>---A----</td>\n",
              "      <td>2020-08-18 10:52:00</td>\n",
              "      <td>2020-08-18 10:54:00</td>\n",
              "      <td>2021-08-12 20:58:00</td>\n",
              "      <td>3145782</td>\n",
              "      <td>BGInfo.bmp</td>\n",
              "      <td>C:\\Windows\\BGInfo.bmp</td>\n",
              "      <td>C:\\Windows\\</td>\n",
              "      <td>bmp</td>\n",
              "      <td>EC80E9F3112F716063C273FC1F75F552</td>\n",
              "    </tr>\n",
              "    <tr>\n",
              "      <th>3</th>\n",
              "      <td>--SA----</td>\n",
              "      <td>2020-11-19 09:44:00</td>\n",
              "      <td>2021-08-12 08:45:00</td>\n",
              "      <td>2021-08-12 20:58:00</td>\n",
              "      <td>67584</td>\n",
              "      <td>bootstat.dat</td>\n",
              "      <td>C:\\Windows\\bootstat.dat</td>\n",
              "      <td>C:\\Windows\\</td>\n",
              "      <td>dat</td>\n",
              "      <td>E68A42FC4CD032E168A66925D63CB96C</td>\n",
              "    </tr>\n",
              "    <tr>\n",
              "      <th>4</th>\n",
              "      <td>---A----</td>\n",
              "      <td>2021-04-22 18:53:00</td>\n",
              "      <td>2021-04-22 18:53:00</td>\n",
              "      <td>2021-08-12 20:58:00</td>\n",
              "      <td>762</td>\n",
              "      <td>comsetup.log</td>\n",
              "      <td>C:\\Windows\\comsetup.log</td>\n",
              "      <td>C:\\Windows\\</td>\n",
              "      <td>log</td>\n",
              "      <td>FFD6B7D88934C99E34D5A823B56A03DE</td>\n",
              "    </tr>\n",
              "    <tr>\n",
              "      <th>...</th>\n",
              "      <td>...</td>\n",
              "      <td>...</td>\n",
              "      <td>...</td>\n",
              "      <td>...</td>\n",
              "      <td>...</td>\n",
              "      <td>...</td>\n",
              "      <td>...</td>\n",
              "      <td>...</td>\n",
              "      <td>...</td>\n",
              "      <td>...</td>\n",
              "    </tr>\n",
              "    <tr>\n",
              "      <th>255826</th>\n",
              "      <td>NaN</td>\n",
              "      <td>2020-11-19 04:44:00</td>\n",
              "      <td>2020-11-19 04:57:00</td>\n",
              "      <td>2021-07-08 19:35:00</td>\n",
              "      <td>375276</td>\n",
              "      <td>WindowsBase.dll</td>\n",
              "      <td>C:\\Windows\\WinSxS\\x86_wpf-windowsbase_31bf3856...</td>\n",
              "      <td>C:\\Windows\\WinSxS\\x86_wpf-windowsbase_31bf3856...</td>\n",
              "      <td>dll</td>\n",
              "      <td>4F6CFC1F7C771075F17D039EB24C6276</td>\n",
              "    </tr>\n",
              "    <tr>\n",
              "      <th>255827</th>\n",
              "      <td>NaN</td>\n",
              "      <td>2021-04-22 20:02:00</td>\n",
              "      <td>2020-09-05 03:54:00</td>\n",
              "      <td>2021-07-08 19:35:00</td>\n",
              "      <td>1257472</td>\n",
              "      <td>WindowsBase.dll</td>\n",
              "      <td>C:\\Windows\\WinSxS\\x86_wpf-windowsbase_31bf3856...</td>\n",
              "      <td>C:\\Windows\\WinSxS\\x86_wpf-windowsbase_31bf3856...</td>\n",
              "      <td>dll</td>\n",
              "      <td>8280BBD8640ECF3826460903760D9774</td>\n",
              "    </tr>\n",
              "    <tr>\n",
              "      <th>255828</th>\n",
              "      <td>NaN</td>\n",
              "      <td>2020-11-19 04:44:00</td>\n",
              "      <td>2020-11-19 04:57:00</td>\n",
              "      <td>2021-07-08 19:35:00</td>\n",
              "      <td>312556</td>\n",
              "      <td>System.Workflow.Activities.dll</td>\n",
              "      <td>C:\\Windows\\WinSxS\\x86_wwf-system.workflow.acti...</td>\n",
              "      <td>C:\\Windows\\WinSxS\\x86_wwf-system.workflow.acti...</td>\n",
              "      <td>dll</td>\n",
              "      <td>DE9176C367D11585D297ACC50E113676</td>\n",
              "    </tr>\n",
              "    <tr>\n",
              "      <th>255829</th>\n",
              "      <td>NaN</td>\n",
              "      <td>2020-11-19 04:44:00</td>\n",
              "      <td>2020-11-19 04:57:00</td>\n",
              "      <td>2021-07-08 19:35:00</td>\n",
              "      <td>484222</td>\n",
              "      <td>System.Workflow.ComponentModel.dll</td>\n",
              "      <td>C:\\Windows\\WinSxS\\x86_wwf-system.workflow.comp...</td>\n",
              "      <td>C:\\Windows\\WinSxS\\x86_wwf-system.workflow.comp...</td>\n",
              "      <td>dll</td>\n",
              "      <td>B92ADB66E47707BDDCC62B850A4201E3</td>\n",
              "    </tr>\n",
              "    <tr>\n",
              "      <th>255830</th>\n",
              "      <td>NaN</td>\n",
              "      <td>2020-11-19 04:44:00</td>\n",
              "      <td>2020-11-19 04:57:00</td>\n",
              "      <td>2021-07-08 19:35:00</td>\n",
              "      <td>149554</td>\n",
              "      <td>System.Workflow.Runtime.dll</td>\n",
              "      <td>C:\\Windows\\WinSxS\\x86_wwf-system.workflow.runt...</td>\n",
              "      <td>C:\\Windows\\WinSxS\\x86_wwf-system.workflow.runt...</td>\n",
              "      <td>dll</td>\n",
              "      <td>412EF3105A13CF3111539C74E7B7F190</td>\n",
              "    </tr>\n",
              "  </tbody>\n",
              "</table>\n",
              "<p>255831 rows × 10 columns</p>\n",
              "</div>"
            ],
            "text/plain": [
              "       Attributes             Created  ...  Ext                               Md5\n",
              "0        ---A---- 2021-01-05 19:19:00  ...  log  50D08E904772E94EB4B16817EB5BE4F1\n",
              "1             NaN 2021-04-22 19:57:00  ...  exe  862251351EC170BB3BD59CB219491811\n",
              "2        ---A---- 2020-08-18 10:52:00  ...  bmp  EC80E9F3112F716063C273FC1F75F552\n",
              "3        --SA---- 2020-11-19 09:44:00  ...  dat  E68A42FC4CD032E168A66925D63CB96C\n",
              "4        ---A---- 2021-04-22 18:53:00  ...  log  FFD6B7D88934C99E34D5A823B56A03DE\n",
              "...           ...                 ...  ...  ...                               ...\n",
              "255826        NaN 2020-11-19 04:44:00  ...  dll  4F6CFC1F7C771075F17D039EB24C6276\n",
              "255827        NaN 2021-04-22 20:02:00  ...  dll  8280BBD8640ECF3826460903760D9774\n",
              "255828        NaN 2020-11-19 04:44:00  ...  dll  DE9176C367D11585D297ACC50E113676\n",
              "255829        NaN 2020-11-19 04:44:00  ...  dll  B92ADB66E47707BDDCC62B850A4201E3\n",
              "255830        NaN 2020-11-19 04:44:00  ...  dll  412EF3105A13CF3111539C74E7B7F190\n",
              "\n",
              "[255831 rows x 10 columns]"
            ]
          },
          "metadata": {},
          "execution_count": 44
        }
      ]
    },
    {
      "cell_type": "markdown",
      "metadata": {
        "id": "xSq8gkmz6HYl"
      },
      "source": [
        "## 5 Working with Pandas Data Frames\n",
        "Pandas data frames are a great way to explore, clean, tweak, and filter your data sets while doing data analysis in Python. This section covers a few of the things you can do with your Pandas data frames.\n",
        "\n",
        "# Exploring data\n",
        "Here are a few functions that allow you to easily know more about the data set you are working on:#"
      ]
    },
    {
      "cell_type": "code",
      "metadata": {
        "colab": {
          "base_uri": "https://localhost:8080/"
        },
        "id": "AQSx3mXIjs16",
        "outputId": "3c501d06-328b-4ffe-e88f-a8dd8c19d333"
      },
      "source": [
        "# show the data types of the columns\n",
        "#\n",
        "df.dtypes"
      ],
      "execution_count": null,
      "outputs": [
        {
          "output_type": "execute_result",
          "data": {
            "text/plain": [
              "Attributes            object\n",
              "Created       datetime64[ns]\n",
              "LastMod       datetime64[ns]\n",
              "LastAcc       datetime64[ns]\n",
              "Size                   int64\n",
              "Name                  object\n",
              "Path                  object\n",
              "Folder                object\n",
              "Ext                   object\n",
              "Md5                   object\n",
              "dtype: object"
            ]
          },
          "metadata": {},
          "execution_count": 4
        }
      ]
    },
    {
      "cell_type": "code",
      "metadata": {
        "colab": {
          "base_uri": "https://localhost:8080/"
        },
        "id": "VsGLf3735_Hn",
        "outputId": "b305d2db-51a4-43ff-ccce-2eeffd10e50b"
      },
      "source": [
        "# show the number of columns and rows\n",
        "df.shape"
      ],
      "execution_count": null,
      "outputs": [
        {
          "output_type": "execute_result",
          "data": {
            "text/plain": [
              "(255831, 10)"
            ]
          },
          "metadata": {},
          "execution_count": 47
        }
      ]
    },
    {
      "cell_type": "code",
      "metadata": {
        "colab": {
          "base_uri": "https://localhost:8080/"
        },
        "id": "kqKqswTg6wjx",
        "outputId": "9b8a84fd-db98-4224-9c15-d131521446bd"
      },
      "source": [
        "df.info()"
      ],
      "execution_count": null,
      "outputs": [
        {
          "output_type": "stream",
          "text": [
            "<class 'pandas.core.frame.DataFrame'>\n",
            "RangeIndex: 255831 entries, 0 to 255830\n",
            "Data columns (total 10 columns):\n",
            " #   Column      Non-Null Count   Dtype         \n",
            "---  ------      --------------   -----         \n",
            " 0   Attributes  191301 non-null  object        \n",
            " 1   Created     255831 non-null  datetime64[ns]\n",
            " 2   LastMod     255831 non-null  datetime64[ns]\n",
            " 3   LastAcc     255831 non-null  datetime64[ns]\n",
            " 4   Size        255831 non-null  int64         \n",
            " 5   Name        255831 non-null  object        \n",
            " 6   Path        255831 non-null  object        \n",
            " 7   Folder      255831 non-null  object        \n",
            " 8   Ext         255628 non-null  object        \n",
            " 9   Md5         255831 non-null  object        \n",
            "dtypes: datetime64[ns](3), int64(1), object(6)\n",
            "memory usage: 19.5+ MB\n"
          ],
          "name": "stdout"
        }
      ]
    },
    {
      "cell_type": "code",
      "metadata": {
        "colab": {
          "base_uri": "https://localhost:8080/",
          "height": 178
        },
        "id": "nmOM842n668Q",
        "outputId": "d346078a-e801-43c0-e9a0-12eea3df6fca"
      },
      "source": [
        "df[:2]"
      ],
      "execution_count": null,
      "outputs": [
        {
          "output_type": "execute_result",
          "data": {
            "text/html": [
              "<div>\n",
              "<style scoped>\n",
              "    .dataframe tbody tr th:only-of-type {\n",
              "        vertical-align: middle;\n",
              "    }\n",
              "\n",
              "    .dataframe tbody tr th {\n",
              "        vertical-align: top;\n",
              "    }\n",
              "\n",
              "    .dataframe thead th {\n",
              "        text-align: right;\n",
              "    }\n",
              "</style>\n",
              "<table border=\"1\" class=\"dataframe\">\n",
              "  <thead>\n",
              "    <tr style=\"text-align: right;\">\n",
              "      <th></th>\n",
              "      <th>Attributes</th>\n",
              "      <th>Created</th>\n",
              "      <th>LastMod</th>\n",
              "      <th>LastAcc</th>\n",
              "      <th>Size</th>\n",
              "      <th>Name</th>\n",
              "      <th>Path</th>\n",
              "      <th>Folder</th>\n",
              "      <th>Ext</th>\n",
              "      <th>Md5</th>\n",
              "    </tr>\n",
              "  </thead>\n",
              "  <tbody>\n",
              "    <tr>\n",
              "      <th>0</th>\n",
              "      <td>---A----</td>\n",
              "      <td>2021-01-05 19:19:00</td>\n",
              "      <td>2021-01-05 19:19:00</td>\n",
              "      <td>2021-08-12 20:58:00</td>\n",
              "      <td>22639</td>\n",
              "      <td>aksdrvsetup.log</td>\n",
              "      <td>C:\\Windows\\aksdrvsetup.log</td>\n",
              "      <td>C:\\Windows\\</td>\n",
              "      <td>log</td>\n",
              "      <td>50D08E904772E94EB4B16817EB5BE4F1</td>\n",
              "    </tr>\n",
              "    <tr>\n",
              "      <th>1</th>\n",
              "      <td>NaN</td>\n",
              "      <td>2021-04-22 19:57:00</td>\n",
              "      <td>2021-04-22 19:57:00</td>\n",
              "      <td>2021-08-12 20:58:00</td>\n",
              "      <td>77824</td>\n",
              "      <td>bfsvc.exe</td>\n",
              "      <td>C:\\Windows\\bfsvc.exe</td>\n",
              "      <td>C:\\Windows\\</td>\n",
              "      <td>exe</td>\n",
              "      <td>862251351EC170BB3BD59CB219491811</td>\n",
              "    </tr>\n",
              "  </tbody>\n",
              "</table>\n",
              "</div>"
            ],
            "text/plain": [
              "  Attributes             Created  ...  Ext                               Md5\n",
              "0   ---A---- 2021-01-05 19:19:00  ...  log  50D08E904772E94EB4B16817EB5BE4F1\n",
              "1        NaN 2021-04-22 19:57:00  ...  exe  862251351EC170BB3BD59CB219491811\n",
              "\n",
              "[2 rows x 10 columns]"
            ]
          },
          "metadata": {},
          "execution_count": 6
        }
      ]
    },
    {
      "cell_type": "code",
      "metadata": {
        "colab": {
          "base_uri": "https://localhost:8080/",
          "height": 773
        },
        "id": "sUD5GmFN8HgB",
        "outputId": "1147db0b-ae5b-4a83-9ef9-70c98d0ca45b"
      },
      "source": [
        "df[2:]"
      ],
      "execution_count": null,
      "outputs": [
        {
          "output_type": "execute_result",
          "data": {
            "text/html": [
              "<div>\n",
              "<style scoped>\n",
              "    .dataframe tbody tr th:only-of-type {\n",
              "        vertical-align: middle;\n",
              "    }\n",
              "\n",
              "    .dataframe tbody tr th {\n",
              "        vertical-align: top;\n",
              "    }\n",
              "\n",
              "    .dataframe thead th {\n",
              "        text-align: right;\n",
              "    }\n",
              "</style>\n",
              "<table border=\"1\" class=\"dataframe\">\n",
              "  <thead>\n",
              "    <tr style=\"text-align: right;\">\n",
              "      <th></th>\n",
              "      <th>Attributes</th>\n",
              "      <th>Created</th>\n",
              "      <th>LastMod</th>\n",
              "      <th>LastAcc</th>\n",
              "      <th>Size</th>\n",
              "      <th>Name</th>\n",
              "      <th>Path</th>\n",
              "      <th>Folder</th>\n",
              "      <th>Ext</th>\n",
              "      <th>Md5</th>\n",
              "    </tr>\n",
              "  </thead>\n",
              "  <tbody>\n",
              "    <tr>\n",
              "      <th>2</th>\n",
              "      <td>---A----</td>\n",
              "      <td>2020-08-18 10:52:00</td>\n",
              "      <td>2020-08-18 10:54:00</td>\n",
              "      <td>2021-08-12 20:58:00</td>\n",
              "      <td>3145782</td>\n",
              "      <td>BGInfo.bmp</td>\n",
              "      <td>C:\\Windows\\BGInfo.bmp</td>\n",
              "      <td>C:\\Windows\\</td>\n",
              "      <td>bmp</td>\n",
              "      <td>EC80E9F3112F716063C273FC1F75F552</td>\n",
              "    </tr>\n",
              "    <tr>\n",
              "      <th>3</th>\n",
              "      <td>--SA----</td>\n",
              "      <td>2020-11-19 09:44:00</td>\n",
              "      <td>2021-08-12 08:45:00</td>\n",
              "      <td>2021-08-12 20:58:00</td>\n",
              "      <td>67584</td>\n",
              "      <td>bootstat.dat</td>\n",
              "      <td>C:\\Windows\\bootstat.dat</td>\n",
              "      <td>C:\\Windows\\</td>\n",
              "      <td>dat</td>\n",
              "      <td>E68A42FC4CD032E168A66925D63CB96C</td>\n",
              "    </tr>\n",
              "    <tr>\n",
              "      <th>4</th>\n",
              "      <td>---A----</td>\n",
              "      <td>2021-04-22 18:53:00</td>\n",
              "      <td>2021-04-22 18:53:00</td>\n",
              "      <td>2021-08-12 20:58:00</td>\n",
              "      <td>762</td>\n",
              "      <td>comsetup.log</td>\n",
              "      <td>C:\\Windows\\comsetup.log</td>\n",
              "      <td>C:\\Windows\\</td>\n",
              "      <td>log</td>\n",
              "      <td>FFD6B7D88934C99E34D5A823B56A03DE</td>\n",
              "    </tr>\n",
              "    <tr>\n",
              "      <th>5</th>\n",
              "      <td>---A----</td>\n",
              "      <td>2018-10-30 00:53:00</td>\n",
              "      <td>2018-09-15 09:28:00</td>\n",
              "      <td>2021-08-12 20:58:00</td>\n",
              "      <td>33951</td>\n",
              "      <td>CoreSingleLanguage.xml</td>\n",
              "      <td>C:\\Windows\\CoreSingleLanguage.xml</td>\n",
              "      <td>C:\\Windows\\</td>\n",
              "      <td>xml</td>\n",
              "      <td>1F334AC7713E228137147CBFBB7BC9AA</td>\n",
              "    </tr>\n",
              "    <tr>\n",
              "      <th>6</th>\n",
              "      <td>R--A----</td>\n",
              "      <td>2019-07-29 20:19:00</td>\n",
              "      <td>2019-02-23 20:52:00</td>\n",
              "      <td>2021-08-12 20:58:00</td>\n",
              "      <td>26</td>\n",
              "      <td>csup.txt</td>\n",
              "      <td>C:\\Windows\\csup.txt</td>\n",
              "      <td>C:\\Windows\\</td>\n",
              "      <td>txt</td>\n",
              "      <td>36EF31C904A5C20F78C89F268602B10D</td>\n",
              "    </tr>\n",
              "    <tr>\n",
              "      <th>...</th>\n",
              "      <td>...</td>\n",
              "      <td>...</td>\n",
              "      <td>...</td>\n",
              "      <td>...</td>\n",
              "      <td>...</td>\n",
              "      <td>...</td>\n",
              "      <td>...</td>\n",
              "      <td>...</td>\n",
              "      <td>...</td>\n",
              "      <td>...</td>\n",
              "    </tr>\n",
              "    <tr>\n",
              "      <th>255826</th>\n",
              "      <td>NaN</td>\n",
              "      <td>2020-11-19 04:44:00</td>\n",
              "      <td>2020-11-19 04:57:00</td>\n",
              "      <td>2021-07-08 19:35:00</td>\n",
              "      <td>375276</td>\n",
              "      <td>WindowsBase.dll</td>\n",
              "      <td>C:\\Windows\\WinSxS\\x86_wpf-windowsbase_31bf3856...</td>\n",
              "      <td>C:\\Windows\\WinSxS\\x86_wpf-windowsbase_31bf3856...</td>\n",
              "      <td>dll</td>\n",
              "      <td>4F6CFC1F7C771075F17D039EB24C6276</td>\n",
              "    </tr>\n",
              "    <tr>\n",
              "      <th>255827</th>\n",
              "      <td>NaN</td>\n",
              "      <td>2021-04-22 20:02:00</td>\n",
              "      <td>2020-09-05 03:54:00</td>\n",
              "      <td>2021-07-08 19:35:00</td>\n",
              "      <td>1257472</td>\n",
              "      <td>WindowsBase.dll</td>\n",
              "      <td>C:\\Windows\\WinSxS\\x86_wpf-windowsbase_31bf3856...</td>\n",
              "      <td>C:\\Windows\\WinSxS\\x86_wpf-windowsbase_31bf3856...</td>\n",
              "      <td>dll</td>\n",
              "      <td>8280BBD8640ECF3826460903760D9774</td>\n",
              "    </tr>\n",
              "    <tr>\n",
              "      <th>255828</th>\n",
              "      <td>NaN</td>\n",
              "      <td>2020-11-19 04:44:00</td>\n",
              "      <td>2020-11-19 04:57:00</td>\n",
              "      <td>2021-07-08 19:35:00</td>\n",
              "      <td>312556</td>\n",
              "      <td>System.Workflow.Activities.dll</td>\n",
              "      <td>C:\\Windows\\WinSxS\\x86_wwf-system.workflow.acti...</td>\n",
              "      <td>C:\\Windows\\WinSxS\\x86_wwf-system.workflow.acti...</td>\n",
              "      <td>dll</td>\n",
              "      <td>DE9176C367D11585D297ACC50E113676</td>\n",
              "    </tr>\n",
              "    <tr>\n",
              "      <th>255829</th>\n",
              "      <td>NaN</td>\n",
              "      <td>2020-11-19 04:44:00</td>\n",
              "      <td>2020-11-19 04:57:00</td>\n",
              "      <td>2021-07-08 19:35:00</td>\n",
              "      <td>484222</td>\n",
              "      <td>System.Workflow.ComponentModel.dll</td>\n",
              "      <td>C:\\Windows\\WinSxS\\x86_wwf-system.workflow.comp...</td>\n",
              "      <td>C:\\Windows\\WinSxS\\x86_wwf-system.workflow.comp...</td>\n",
              "      <td>dll</td>\n",
              "      <td>B92ADB66E47707BDDCC62B850A4201E3</td>\n",
              "    </tr>\n",
              "    <tr>\n",
              "      <th>255830</th>\n",
              "      <td>NaN</td>\n",
              "      <td>2020-11-19 04:44:00</td>\n",
              "      <td>2020-11-19 04:57:00</td>\n",
              "      <td>2021-07-08 19:35:00</td>\n",
              "      <td>149554</td>\n",
              "      <td>System.Workflow.Runtime.dll</td>\n",
              "      <td>C:\\Windows\\WinSxS\\x86_wwf-system.workflow.runt...</td>\n",
              "      <td>C:\\Windows\\WinSxS\\x86_wwf-system.workflow.runt...</td>\n",
              "      <td>dll</td>\n",
              "      <td>412EF3105A13CF3111539C74E7B7F190</td>\n",
              "    </tr>\n",
              "  </tbody>\n",
              "</table>\n",
              "<p>255829 rows × 10 columns</p>\n",
              "</div>"
            ],
            "text/plain": [
              "       Attributes             Created  ...  Ext                               Md5\n",
              "2        ---A---- 2020-08-18 10:52:00  ...  bmp  EC80E9F3112F716063C273FC1F75F552\n",
              "3        --SA---- 2020-11-19 09:44:00  ...  dat  E68A42FC4CD032E168A66925D63CB96C\n",
              "4        ---A---- 2021-04-22 18:53:00  ...  log  FFD6B7D88934C99E34D5A823B56A03DE\n",
              "5        ---A---- 2018-10-30 00:53:00  ...  xml  1F334AC7713E228137147CBFBB7BC9AA\n",
              "6        R--A---- 2019-07-29 20:19:00  ...  txt  36EF31C904A5C20F78C89F268602B10D\n",
              "...           ...                 ...  ...  ...                               ...\n",
              "255826        NaN 2020-11-19 04:44:00  ...  dll  4F6CFC1F7C771075F17D039EB24C6276\n",
              "255827        NaN 2021-04-22 20:02:00  ...  dll  8280BBD8640ECF3826460903760D9774\n",
              "255828        NaN 2020-11-19 04:44:00  ...  dll  DE9176C367D11585D297ACC50E113676\n",
              "255829        NaN 2020-11-19 04:44:00  ...  dll  B92ADB66E47707BDDCC62B850A4201E3\n",
              "255830        NaN 2020-11-19 04:44:00  ...  dll  412EF3105A13CF3111539C74E7B7F190\n",
              "\n",
              "[255829 rows x 10 columns]"
            ]
          },
          "metadata": {},
          "execution_count": 7
        }
      ]
    },
    {
      "cell_type": "code",
      "metadata": {
        "colab": {
          "base_uri": "https://localhost:8080/",
          "height": 391
        },
        "id": "cxZ6R4I88JRl",
        "outputId": "cac994be-b8a5-439d-ca68-2e70b2bb3cb1"
      },
      "source": [
        "df.head()"
      ],
      "execution_count": null,
      "outputs": [
        {
          "output_type": "execute_result",
          "data": {
            "text/html": [
              "<div>\n",
              "<style scoped>\n",
              "    .dataframe tbody tr th:only-of-type {\n",
              "        vertical-align: middle;\n",
              "    }\n",
              "\n",
              "    .dataframe tbody tr th {\n",
              "        vertical-align: top;\n",
              "    }\n",
              "\n",
              "    .dataframe thead th {\n",
              "        text-align: right;\n",
              "    }\n",
              "</style>\n",
              "<table border=\"1\" class=\"dataframe\">\n",
              "  <thead>\n",
              "    <tr style=\"text-align: right;\">\n",
              "      <th></th>\n",
              "      <th>Attributes</th>\n",
              "      <th>Created</th>\n",
              "      <th>LastMod</th>\n",
              "      <th>LastAcc</th>\n",
              "      <th>Size</th>\n",
              "      <th>Name</th>\n",
              "      <th>Path</th>\n",
              "      <th>Folder</th>\n",
              "      <th>Ext</th>\n",
              "      <th>Md5</th>\n",
              "    </tr>\n",
              "  </thead>\n",
              "  <tbody>\n",
              "    <tr>\n",
              "      <th>0</th>\n",
              "      <td>---A----</td>\n",
              "      <td>2021-01-05 19:19:00</td>\n",
              "      <td>2021-01-05 19:19:00</td>\n",
              "      <td>2021-08-12 20:58:00</td>\n",
              "      <td>22639</td>\n",
              "      <td>aksdrvsetup.log</td>\n",
              "      <td>C:\\Windows\\aksdrvsetup.log</td>\n",
              "      <td>C:\\Windows\\</td>\n",
              "      <td>log</td>\n",
              "      <td>50D08E904772E94EB4B16817EB5BE4F1</td>\n",
              "    </tr>\n",
              "    <tr>\n",
              "      <th>1</th>\n",
              "      <td>NaN</td>\n",
              "      <td>2021-04-22 19:57:00</td>\n",
              "      <td>2021-04-22 19:57:00</td>\n",
              "      <td>2021-08-12 20:58:00</td>\n",
              "      <td>77824</td>\n",
              "      <td>bfsvc.exe</td>\n",
              "      <td>C:\\Windows\\bfsvc.exe</td>\n",
              "      <td>C:\\Windows\\</td>\n",
              "      <td>exe</td>\n",
              "      <td>862251351EC170BB3BD59CB219491811</td>\n",
              "    </tr>\n",
              "    <tr>\n",
              "      <th>2</th>\n",
              "      <td>---A----</td>\n",
              "      <td>2020-08-18 10:52:00</td>\n",
              "      <td>2020-08-18 10:54:00</td>\n",
              "      <td>2021-08-12 20:58:00</td>\n",
              "      <td>3145782</td>\n",
              "      <td>BGInfo.bmp</td>\n",
              "      <td>C:\\Windows\\BGInfo.bmp</td>\n",
              "      <td>C:\\Windows\\</td>\n",
              "      <td>bmp</td>\n",
              "      <td>EC80E9F3112F716063C273FC1F75F552</td>\n",
              "    </tr>\n",
              "    <tr>\n",
              "      <th>3</th>\n",
              "      <td>--SA----</td>\n",
              "      <td>2020-11-19 09:44:00</td>\n",
              "      <td>2021-08-12 08:45:00</td>\n",
              "      <td>2021-08-12 20:58:00</td>\n",
              "      <td>67584</td>\n",
              "      <td>bootstat.dat</td>\n",
              "      <td>C:\\Windows\\bootstat.dat</td>\n",
              "      <td>C:\\Windows\\</td>\n",
              "      <td>dat</td>\n",
              "      <td>E68A42FC4CD032E168A66925D63CB96C</td>\n",
              "    </tr>\n",
              "    <tr>\n",
              "      <th>4</th>\n",
              "      <td>---A----</td>\n",
              "      <td>2021-04-22 18:53:00</td>\n",
              "      <td>2021-04-22 18:53:00</td>\n",
              "      <td>2021-08-12 20:58:00</td>\n",
              "      <td>762</td>\n",
              "      <td>comsetup.log</td>\n",
              "      <td>C:\\Windows\\comsetup.log</td>\n",
              "      <td>C:\\Windows\\</td>\n",
              "      <td>log</td>\n",
              "      <td>FFD6B7D88934C99E34D5A823B56A03DE</td>\n",
              "    </tr>\n",
              "  </tbody>\n",
              "</table>\n",
              "</div>"
            ],
            "text/plain": [
              "  Attributes             Created  ...  Ext                               Md5\n",
              "0   ---A---- 2021-01-05 19:19:00  ...  log  50D08E904772E94EB4B16817EB5BE4F1\n",
              "1        NaN 2021-04-22 19:57:00  ...  exe  862251351EC170BB3BD59CB219491811\n",
              "2   ---A---- 2020-08-18 10:52:00  ...  bmp  EC80E9F3112F716063C273FC1F75F552\n",
              "3   --SA---- 2020-11-19 09:44:00  ...  dat  E68A42FC4CD032E168A66925D63CB96C\n",
              "4   ---A---- 2021-04-22 18:53:00  ...  log  FFD6B7D88934C99E34D5A823B56A03DE\n",
              "\n",
              "[5 rows x 10 columns]"
            ]
          },
          "metadata": {},
          "execution_count": 8
        }
      ]
    },
    {
      "cell_type": "code",
      "metadata": {
        "colab": {
          "base_uri": "https://localhost:8080/",
          "height": 391
        },
        "id": "4rV_OnKn8MmX",
        "outputId": "539526dc-dc87-4e6e-9d2d-d9ac3ebd0464"
      },
      "source": [
        "df.tail()"
      ],
      "execution_count": null,
      "outputs": [
        {
          "output_type": "execute_result",
          "data": {
            "text/html": [
              "<div>\n",
              "<style scoped>\n",
              "    .dataframe tbody tr th:only-of-type {\n",
              "        vertical-align: middle;\n",
              "    }\n",
              "\n",
              "    .dataframe tbody tr th {\n",
              "        vertical-align: top;\n",
              "    }\n",
              "\n",
              "    .dataframe thead th {\n",
              "        text-align: right;\n",
              "    }\n",
              "</style>\n",
              "<table border=\"1\" class=\"dataframe\">\n",
              "  <thead>\n",
              "    <tr style=\"text-align: right;\">\n",
              "      <th></th>\n",
              "      <th>Attributes</th>\n",
              "      <th>Created</th>\n",
              "      <th>LastMod</th>\n",
              "      <th>LastAcc</th>\n",
              "      <th>Size</th>\n",
              "      <th>Name</th>\n",
              "      <th>Path</th>\n",
              "      <th>Folder</th>\n",
              "      <th>Ext</th>\n",
              "      <th>Md5</th>\n",
              "    </tr>\n",
              "  </thead>\n",
              "  <tbody>\n",
              "    <tr>\n",
              "      <th>255826</th>\n",
              "      <td>NaN</td>\n",
              "      <td>2020-11-19 04:44:00</td>\n",
              "      <td>2020-11-19 04:57:00</td>\n",
              "      <td>2021-07-08 19:35:00</td>\n",
              "      <td>375276</td>\n",
              "      <td>WindowsBase.dll</td>\n",
              "      <td>C:\\Windows\\WinSxS\\x86_wpf-windowsbase_31bf3856...</td>\n",
              "      <td>C:\\Windows\\WinSxS\\x86_wpf-windowsbase_31bf3856...</td>\n",
              "      <td>dll</td>\n",
              "      <td>4F6CFC1F7C771075F17D039EB24C6276</td>\n",
              "    </tr>\n",
              "    <tr>\n",
              "      <th>255827</th>\n",
              "      <td>NaN</td>\n",
              "      <td>2021-04-22 20:02:00</td>\n",
              "      <td>2020-09-05 03:54:00</td>\n",
              "      <td>2021-07-08 19:35:00</td>\n",
              "      <td>1257472</td>\n",
              "      <td>WindowsBase.dll</td>\n",
              "      <td>C:\\Windows\\WinSxS\\x86_wpf-windowsbase_31bf3856...</td>\n",
              "      <td>C:\\Windows\\WinSxS\\x86_wpf-windowsbase_31bf3856...</td>\n",
              "      <td>dll</td>\n",
              "      <td>8280BBD8640ECF3826460903760D9774</td>\n",
              "    </tr>\n",
              "    <tr>\n",
              "      <th>255828</th>\n",
              "      <td>NaN</td>\n",
              "      <td>2020-11-19 04:44:00</td>\n",
              "      <td>2020-11-19 04:57:00</td>\n",
              "      <td>2021-07-08 19:35:00</td>\n",
              "      <td>312556</td>\n",
              "      <td>System.Workflow.Activities.dll</td>\n",
              "      <td>C:\\Windows\\WinSxS\\x86_wwf-system.workflow.acti...</td>\n",
              "      <td>C:\\Windows\\WinSxS\\x86_wwf-system.workflow.acti...</td>\n",
              "      <td>dll</td>\n",
              "      <td>DE9176C367D11585D297ACC50E113676</td>\n",
              "    </tr>\n",
              "    <tr>\n",
              "      <th>255829</th>\n",
              "      <td>NaN</td>\n",
              "      <td>2020-11-19 04:44:00</td>\n",
              "      <td>2020-11-19 04:57:00</td>\n",
              "      <td>2021-07-08 19:35:00</td>\n",
              "      <td>484222</td>\n",
              "      <td>System.Workflow.ComponentModel.dll</td>\n",
              "      <td>C:\\Windows\\WinSxS\\x86_wwf-system.workflow.comp...</td>\n",
              "      <td>C:\\Windows\\WinSxS\\x86_wwf-system.workflow.comp...</td>\n",
              "      <td>dll</td>\n",
              "      <td>B92ADB66E47707BDDCC62B850A4201E3</td>\n",
              "    </tr>\n",
              "    <tr>\n",
              "      <th>255830</th>\n",
              "      <td>NaN</td>\n",
              "      <td>2020-11-19 04:44:00</td>\n",
              "      <td>2020-11-19 04:57:00</td>\n",
              "      <td>2021-07-08 19:35:00</td>\n",
              "      <td>149554</td>\n",
              "      <td>System.Workflow.Runtime.dll</td>\n",
              "      <td>C:\\Windows\\WinSxS\\x86_wwf-system.workflow.runt...</td>\n",
              "      <td>C:\\Windows\\WinSxS\\x86_wwf-system.workflow.runt...</td>\n",
              "      <td>dll</td>\n",
              "      <td>412EF3105A13CF3111539C74E7B7F190</td>\n",
              "    </tr>\n",
              "  </tbody>\n",
              "</table>\n",
              "</div>"
            ],
            "text/plain": [
              "       Attributes             Created  ...  Ext                               Md5\n",
              "255826        NaN 2020-11-19 04:44:00  ...  dll  4F6CFC1F7C771075F17D039EB24C6276\n",
              "255827        NaN 2021-04-22 20:02:00  ...  dll  8280BBD8640ECF3826460903760D9774\n",
              "255828        NaN 2020-11-19 04:44:00  ...  dll  DE9176C367D11585D297ACC50E113676\n",
              "255829        NaN 2020-11-19 04:44:00  ...  dll  B92ADB66E47707BDDCC62B850A4201E3\n",
              "255830        NaN 2020-11-19 04:44:00  ...  dll  412EF3105A13CF3111539C74E7B7F190\n",
              "\n",
              "[5 rows x 10 columns]"
            ]
          },
          "metadata": {},
          "execution_count": 9
        }
      ]
    },
    {
      "cell_type": "code",
      "metadata": {
        "id": "CyGETnkcIQyE",
        "colab": {
          "base_uri": "https://localhost:8080/",
          "height": 773
        },
        "outputId": "ed9e91b2-d44c-4e8d-e5bd-92b8911c546d"
      },
      "source": [
        "# we can also create a new column that is based on another colum\n",
        "# The following code splits the path based on \\ and stores the array in a new column called Folders\n",
        "df['Folders']=df['Path'].str.split('\\\\')\n",
        "df\n"
      ],
      "execution_count": null,
      "outputs": [
        {
          "output_type": "execute_result",
          "data": {
            "text/html": [
              "<div>\n",
              "<style scoped>\n",
              "    .dataframe tbody tr th:only-of-type {\n",
              "        vertical-align: middle;\n",
              "    }\n",
              "\n",
              "    .dataframe tbody tr th {\n",
              "        vertical-align: top;\n",
              "    }\n",
              "\n",
              "    .dataframe thead th {\n",
              "        text-align: right;\n",
              "    }\n",
              "</style>\n",
              "<table border=\"1\" class=\"dataframe\">\n",
              "  <thead>\n",
              "    <tr style=\"text-align: right;\">\n",
              "      <th></th>\n",
              "      <th>Attributes</th>\n",
              "      <th>Created</th>\n",
              "      <th>LastMod</th>\n",
              "      <th>LastAcc</th>\n",
              "      <th>Size</th>\n",
              "      <th>Name</th>\n",
              "      <th>Path</th>\n",
              "      <th>Folder</th>\n",
              "      <th>Ext</th>\n",
              "      <th>Md5</th>\n",
              "      <th>Folders</th>\n",
              "    </tr>\n",
              "  </thead>\n",
              "  <tbody>\n",
              "    <tr>\n",
              "      <th>0</th>\n",
              "      <td>---A----</td>\n",
              "      <td>2021-01-05 19:19:00</td>\n",
              "      <td>2021-01-05 19:19:00</td>\n",
              "      <td>2021-08-12 20:58:00</td>\n",
              "      <td>22639</td>\n",
              "      <td>aksdrvsetup.log</td>\n",
              "      <td>C:\\Windows\\aksdrvsetup.log</td>\n",
              "      <td>C:\\Windows\\</td>\n",
              "      <td>log</td>\n",
              "      <td>50D08E904772E94EB4B16817EB5BE4F1</td>\n",
              "      <td>[C:, Windows, aksdrvsetup.log]</td>\n",
              "    </tr>\n",
              "    <tr>\n",
              "      <th>1</th>\n",
              "      <td>NaN</td>\n",
              "      <td>2021-04-22 19:57:00</td>\n",
              "      <td>2021-04-22 19:57:00</td>\n",
              "      <td>2021-08-12 20:58:00</td>\n",
              "      <td>77824</td>\n",
              "      <td>bfsvc.exe</td>\n",
              "      <td>C:\\Windows\\bfsvc.exe</td>\n",
              "      <td>C:\\Windows\\</td>\n",
              "      <td>exe</td>\n",
              "      <td>862251351EC170BB3BD59CB219491811</td>\n",
              "      <td>[C:, Windows, bfsvc.exe]</td>\n",
              "    </tr>\n",
              "    <tr>\n",
              "      <th>2</th>\n",
              "      <td>---A----</td>\n",
              "      <td>2020-08-18 10:52:00</td>\n",
              "      <td>2020-08-18 10:54:00</td>\n",
              "      <td>2021-08-12 20:58:00</td>\n",
              "      <td>3145782</td>\n",
              "      <td>BGInfo.bmp</td>\n",
              "      <td>C:\\Windows\\BGInfo.bmp</td>\n",
              "      <td>C:\\Windows\\</td>\n",
              "      <td>bmp</td>\n",
              "      <td>EC80E9F3112F716063C273FC1F75F552</td>\n",
              "      <td>[C:, Windows, BGInfo.bmp]</td>\n",
              "    </tr>\n",
              "    <tr>\n",
              "      <th>3</th>\n",
              "      <td>--SA----</td>\n",
              "      <td>2020-11-19 09:44:00</td>\n",
              "      <td>2021-08-12 08:45:00</td>\n",
              "      <td>2021-08-12 20:58:00</td>\n",
              "      <td>67584</td>\n",
              "      <td>bootstat.dat</td>\n",
              "      <td>C:\\Windows\\bootstat.dat</td>\n",
              "      <td>C:\\Windows\\</td>\n",
              "      <td>dat</td>\n",
              "      <td>E68A42FC4CD032E168A66925D63CB96C</td>\n",
              "      <td>[C:, Windows, bootstat.dat]</td>\n",
              "    </tr>\n",
              "    <tr>\n",
              "      <th>4</th>\n",
              "      <td>---A----</td>\n",
              "      <td>2021-04-22 18:53:00</td>\n",
              "      <td>2021-04-22 18:53:00</td>\n",
              "      <td>2021-08-12 20:58:00</td>\n",
              "      <td>762</td>\n",
              "      <td>comsetup.log</td>\n",
              "      <td>C:\\Windows\\comsetup.log</td>\n",
              "      <td>C:\\Windows\\</td>\n",
              "      <td>log</td>\n",
              "      <td>FFD6B7D88934C99E34D5A823B56A03DE</td>\n",
              "      <td>[C:, Windows, comsetup.log]</td>\n",
              "    </tr>\n",
              "    <tr>\n",
              "      <th>...</th>\n",
              "      <td>...</td>\n",
              "      <td>...</td>\n",
              "      <td>...</td>\n",
              "      <td>...</td>\n",
              "      <td>...</td>\n",
              "      <td>...</td>\n",
              "      <td>...</td>\n",
              "      <td>...</td>\n",
              "      <td>...</td>\n",
              "      <td>...</td>\n",
              "      <td>...</td>\n",
              "    </tr>\n",
              "    <tr>\n",
              "      <th>255826</th>\n",
              "      <td>NaN</td>\n",
              "      <td>2020-11-19 04:44:00</td>\n",
              "      <td>2020-11-19 04:57:00</td>\n",
              "      <td>2021-07-08 19:35:00</td>\n",
              "      <td>375276</td>\n",
              "      <td>WindowsBase.dll</td>\n",
              "      <td>C:\\Windows\\WinSxS\\x86_wpf-windowsbase_31bf3856...</td>\n",
              "      <td>C:\\Windows\\WinSxS\\x86_wpf-windowsbase_31bf3856...</td>\n",
              "      <td>dll</td>\n",
              "      <td>4F6CFC1F7C771075F17D039EB24C6276</td>\n",
              "      <td>[C:, Windows, WinSxS, x86_wpf-windowsbase_31bf...</td>\n",
              "    </tr>\n",
              "    <tr>\n",
              "      <th>255827</th>\n",
              "      <td>NaN</td>\n",
              "      <td>2021-04-22 20:02:00</td>\n",
              "      <td>2020-09-05 03:54:00</td>\n",
              "      <td>2021-07-08 19:35:00</td>\n",
              "      <td>1257472</td>\n",
              "      <td>WindowsBase.dll</td>\n",
              "      <td>C:\\Windows\\WinSxS\\x86_wpf-windowsbase_31bf3856...</td>\n",
              "      <td>C:\\Windows\\WinSxS\\x86_wpf-windowsbase_31bf3856...</td>\n",
              "      <td>dll</td>\n",
              "      <td>8280BBD8640ECF3826460903760D9774</td>\n",
              "      <td>[C:, Windows, WinSxS, x86_wpf-windowsbase_31bf...</td>\n",
              "    </tr>\n",
              "    <tr>\n",
              "      <th>255828</th>\n",
              "      <td>NaN</td>\n",
              "      <td>2020-11-19 04:44:00</td>\n",
              "      <td>2020-11-19 04:57:00</td>\n",
              "      <td>2021-07-08 19:35:00</td>\n",
              "      <td>312556</td>\n",
              "      <td>System.Workflow.Activities.dll</td>\n",
              "      <td>C:\\Windows\\WinSxS\\x86_wwf-system.workflow.acti...</td>\n",
              "      <td>C:\\Windows\\WinSxS\\x86_wwf-system.workflow.acti...</td>\n",
              "      <td>dll</td>\n",
              "      <td>DE9176C367D11585D297ACC50E113676</td>\n",
              "      <td>[C:, Windows, WinSxS, x86_wwf-system.workflow....</td>\n",
              "    </tr>\n",
              "    <tr>\n",
              "      <th>255829</th>\n",
              "      <td>NaN</td>\n",
              "      <td>2020-11-19 04:44:00</td>\n",
              "      <td>2020-11-19 04:57:00</td>\n",
              "      <td>2021-07-08 19:35:00</td>\n",
              "      <td>484222</td>\n",
              "      <td>System.Workflow.ComponentModel.dll</td>\n",
              "      <td>C:\\Windows\\WinSxS\\x86_wwf-system.workflow.comp...</td>\n",
              "      <td>C:\\Windows\\WinSxS\\x86_wwf-system.workflow.comp...</td>\n",
              "      <td>dll</td>\n",
              "      <td>B92ADB66E47707BDDCC62B850A4201E3</td>\n",
              "      <td>[C:, Windows, WinSxS, x86_wwf-system.workflow....</td>\n",
              "    </tr>\n",
              "    <tr>\n",
              "      <th>255830</th>\n",
              "      <td>NaN</td>\n",
              "      <td>2020-11-19 04:44:00</td>\n",
              "      <td>2020-11-19 04:57:00</td>\n",
              "      <td>2021-07-08 19:35:00</td>\n",
              "      <td>149554</td>\n",
              "      <td>System.Workflow.Runtime.dll</td>\n",
              "      <td>C:\\Windows\\WinSxS\\x86_wwf-system.workflow.runt...</td>\n",
              "      <td>C:\\Windows\\WinSxS\\x86_wwf-system.workflow.runt...</td>\n",
              "      <td>dll</td>\n",
              "      <td>412EF3105A13CF3111539C74E7B7F190</td>\n",
              "      <td>[C:, Windows, WinSxS, x86_wwf-system.workflow....</td>\n",
              "    </tr>\n",
              "  </tbody>\n",
              "</table>\n",
              "<p>255831 rows × 11 columns</p>\n",
              "</div>"
            ],
            "text/plain": [
              "       Attributes  ...                                            Folders\n",
              "0        ---A----  ...                     [C:, Windows, aksdrvsetup.log]\n",
              "1             NaN  ...                           [C:, Windows, bfsvc.exe]\n",
              "2        ---A----  ...                          [C:, Windows, BGInfo.bmp]\n",
              "3        --SA----  ...                        [C:, Windows, bootstat.dat]\n",
              "4        ---A----  ...                        [C:, Windows, comsetup.log]\n",
              "...           ...  ...                                                ...\n",
              "255826        NaN  ...  [C:, Windows, WinSxS, x86_wpf-windowsbase_31bf...\n",
              "255827        NaN  ...  [C:, Windows, WinSxS, x86_wpf-windowsbase_31bf...\n",
              "255828        NaN  ...  [C:, Windows, WinSxS, x86_wwf-system.workflow....\n",
              "255829        NaN  ...  [C:, Windows, WinSxS, x86_wwf-system.workflow....\n",
              "255830        NaN  ...  [C:, Windows, WinSxS, x86_wwf-system.workflow....\n",
              "\n",
              "[255831 rows x 11 columns]"
            ]
          },
          "metadata": {},
          "execution_count": 10
        }
      ]
    },
    {
      "cell_type": "markdown",
      "metadata": {
        "id": "nIfaR31T8Qcb"
      },
      "source": [
        "## 6 Statistical operations\n",
        "All standard statistical operations like minimums, maximums, and custom quantiles are present in Pandas:"
      ]
    },
    {
      "cell_type": "code",
      "metadata": {
        "colab": {
          "base_uri": "https://localhost:8080/",
          "height": 295
        },
        "id": "faLVtfQ78RmR",
        "outputId": "9a81a07d-a617-479f-baa2-211dd94b2818"
      },
      "source": [
        "df.describe()"
      ],
      "execution_count": null,
      "outputs": [
        {
          "output_type": "execute_result",
          "data": {
            "text/html": [
              "<div>\n",
              "<style scoped>\n",
              "    .dataframe tbody tr th:only-of-type {\n",
              "        vertical-align: middle;\n",
              "    }\n",
              "\n",
              "    .dataframe tbody tr th {\n",
              "        vertical-align: top;\n",
              "    }\n",
              "\n",
              "    .dataframe thead th {\n",
              "        text-align: right;\n",
              "    }\n",
              "</style>\n",
              "<table border=\"1\" class=\"dataframe\">\n",
              "  <thead>\n",
              "    <tr style=\"text-align: right;\">\n",
              "      <th></th>\n",
              "      <th>Size</th>\n",
              "    </tr>\n",
              "  </thead>\n",
              "  <tbody>\n",
              "    <tr>\n",
              "      <th>count</th>\n",
              "      <td>2.558310e+05</td>\n",
              "    </tr>\n",
              "    <tr>\n",
              "      <th>mean</th>\n",
              "      <td>1.109138e+05</td>\n",
              "    </tr>\n",
              "    <tr>\n",
              "      <th>std</th>\n",
              "      <td>2.173671e+06</td>\n",
              "    </tr>\n",
              "    <tr>\n",
              "      <th>min</th>\n",
              "      <td>0.000000e+00</td>\n",
              "    </tr>\n",
              "    <tr>\n",
              "      <th>25%</th>\n",
              "      <td>6.380000e+02</td>\n",
              "    </tr>\n",
              "    <tr>\n",
              "      <th>50%</th>\n",
              "      <td>2.437000e+03</td>\n",
              "    </tr>\n",
              "    <tr>\n",
              "      <th>75%</th>\n",
              "      <td>9.817000e+03</td>\n",
              "    </tr>\n",
              "    <tr>\n",
              "      <th>max</th>\n",
              "      <td>2.460795e+08</td>\n",
              "    </tr>\n",
              "  </tbody>\n",
              "</table>\n",
              "</div>"
            ],
            "text/plain": [
              "               Size\n",
              "count  2.558310e+05\n",
              "mean   1.109138e+05\n",
              "std    2.173671e+06\n",
              "min    0.000000e+00\n",
              "25%    6.380000e+02\n",
              "50%    2.437000e+03\n",
              "75%    9.817000e+03\n",
              "max    2.460795e+08"
            ]
          },
          "metadata": {},
          "execution_count": 11
        }
      ]
    },
    {
      "cell_type": "code",
      "metadata": {
        "colab": {
          "base_uri": "https://localhost:8080/"
        },
        "id": "b0A0ODsO8Wjd",
        "outputId": "f616213b-3f68-4575-e2b2-b8c4b97cd58a"
      },
      "source": [
        "df.count()"
      ],
      "execution_count": null,
      "outputs": [
        {
          "output_type": "execute_result",
          "data": {
            "text/plain": [
              "Attributes    191301\n",
              "Created       255831\n",
              "LastMod       255831\n",
              "LastAcc       255831\n",
              "Size          255831\n",
              "Name          255831\n",
              "Path          255831\n",
              "Folder        255831\n",
              "Ext           255628\n",
              "Md5           255831\n",
              "Folders       255831\n",
              "dtype: int64"
            ]
          },
          "metadata": {},
          "execution_count": 12
        }
      ]
    },
    {
      "cell_type": "code",
      "metadata": {
        "colab": {
          "base_uri": "https://localhost:8080/"
        },
        "id": "fkqO91W88Yft",
        "outputId": "0e5f8f82-35cd-4c4b-9f4d-4e5373091fce"
      },
      "source": [
        "df[\"Size\"].mean()"
      ],
      "execution_count": null,
      "outputs": [
        {
          "output_type": "execute_result",
          "data": {
            "text/plain": [
              "110913.84596081007"
            ]
          },
          "metadata": {},
          "execution_count": 13
        }
      ]
    },
    {
      "cell_type": "code",
      "metadata": {
        "colab": {
          "base_uri": "https://localhost:8080/"
        },
        "id": "Q7gPwEmF8enn",
        "outputId": "50f892ae-4a22-4267-bde5-cb9f4ad8d0aa"
      },
      "source": [
        "df[\"Size\"].max()"
      ],
      "execution_count": null,
      "outputs": [
        {
          "output_type": "execute_result",
          "data": {
            "text/plain": [
              "246079488"
            ]
          },
          "metadata": {},
          "execution_count": 14
        }
      ]
    },
    {
      "cell_type": "code",
      "metadata": {
        "colab": {
          "base_uri": "https://localhost:8080/"
        },
        "id": "Xo7Mr4ID8hh8",
        "outputId": "312c283c-1e8b-4994-a563-b713e46ed99b"
      },
      "source": [
        "df[\"Size\"].min()"
      ],
      "execution_count": null,
      "outputs": [
        {
          "output_type": "execute_result",
          "data": {
            "text/plain": [
              "0"
            ]
          },
          "metadata": {},
          "execution_count": 15
        }
      ]
    },
    {
      "cell_type": "code",
      "metadata": {
        "colab": {
          "base_uri": "https://localhost:8080/"
        },
        "id": "xUh4EEyk8kX0",
        "outputId": "cb4f0919-9170-451d-a505-fdc3dab5ed35"
      },
      "source": [
        "df[\"Size\"].quantile(0.25)"
      ],
      "execution_count": null,
      "outputs": [
        {
          "output_type": "execute_result",
          "data": {
            "text/plain": [
              "638.0"
            ]
          },
          "metadata": {
            "tags": []
          },
          "execution_count": 82
        }
      ]
    },
    {
      "cell_type": "code",
      "metadata": {
        "colab": {
          "base_uri": "https://localhost:8080/"
        },
        "id": "z2tNNXId8ryC",
        "outputId": "1f81e714-f57b-4046-b11c-1377f8687ced"
      },
      "source": [
        "df[\"Size\"].quantile(0.5)"
      ],
      "execution_count": null,
      "outputs": [
        {
          "output_type": "execute_result",
          "data": {
            "text/plain": [
              "2437.0"
            ]
          },
          "metadata": {
            "tags": []
          },
          "execution_count": 83
        }
      ]
    },
    {
      "cell_type": "code",
      "metadata": {
        "colab": {
          "base_uri": "https://localhost:8080/",
          "height": 295
        },
        "id": "B5bNYl7_BJnI",
        "outputId": "587a1b17-ca41-468e-b072-bfe6b86cc8be"
      },
      "source": [
        "df[\"Size\"].hist()"
      ],
      "execution_count": null,
      "outputs": [
        {
          "output_type": "execute_result",
          "data": {
            "text/plain": [
              "<matplotlib.axes._subplots.AxesSubplot at 0x7f6a9d451ed0>"
            ]
          },
          "metadata": {},
          "execution_count": 16
        },
        {
          "output_type": "display_data",
          "data": {
            "image/png": "[encoded data removed]",
            "text/plain": [
              "<Figure size 432x288 with 1 Axes>"
            ]
          },
          "metadata": {
            "needs_background": "light"
          }
        }
      ]
    },
    {
      "cell_type": "markdown",
      "metadata": {
        "id": "a5ILT1Vf84a5"
      },
      "source": [
        "## 7 Cleaning the Data\n",
        "It is quite common to have not-a-number (NaN) values in your data set. To be able to operate on a data set with statistical methods, you’ll first need to clean up the data. The fillna and dropna Pandas functions are a convenient way to replace the NaN values with something more representative for your data set, for example, a zero, or to remove the rows with NaN values from the data frame."
      ]
    },
    {
      "cell_type": "code",
      "metadata": {
        "colab": {
          "base_uri": "https://localhost:8080/"
        },
        "id": "o-yQqM9pU__S",
        "outputId": "e0b98dbb-e09b-4ec0-e67e-d9d6edd8d619"
      },
      "source": [
        "df.isna().sum()"
      ],
      "execution_count": null,
      "outputs": [
        {
          "output_type": "execute_result",
          "data": {
            "text/plain": [
              "Attributes    64530\n",
              "Created           0\n",
              "LastMod           0\n",
              "LastAcc           0\n",
              "Size              0\n",
              "Name              0\n",
              "Path              0\n",
              "Folder            0\n",
              "Ext             203\n",
              "Md5               0\n",
              "Folders           0\n",
              "dtype: int64"
            ]
          },
          "metadata": {},
          "execution_count": 19
        }
      ]
    },
    {
      "cell_type": "code",
      "metadata": {
        "id": "sxBgPr1C86GI"
      },
      "source": [
        "clean_df = df\n",
        "clean_df = df[\"Attributes\"].fillna(\"Unknown\")"
      ],
      "execution_count": null,
      "outputs": []
    },
    {
      "cell_type": "code",
      "metadata": {
        "colab": {
          "base_uri": "https://localhost:8080/"
        },
        "id": "KYLgUFz8Jevw",
        "outputId": "e25ac6ba-2112-41d4-e81e-286f433e4812"
      },
      "source": [
        "clean_df"
      ],
      "execution_count": null,
      "outputs": [
        {
          "output_type": "execute_result",
          "data": {
            "text/plain": [
              "0         ---A----\n",
              "1          Unknown\n",
              "2         ---A----\n",
              "3         --SA----\n",
              "4         ---A----\n",
              "            ...   \n",
              "255826     Unknown\n",
              "255827     Unknown\n",
              "255828     Unknown\n",
              "255829     Unknown\n",
              "255830     Unknown\n",
              "Name: Attributes, Length: 255831, dtype: object"
            ]
          },
          "metadata": {},
          "execution_count": 25
        }
      ]
    },
    {
      "cell_type": "code",
      "metadata": {
        "id": "pilMARqH9AND"
      },
      "source": [
        "df['Attributes'].dropna()"
      ],
      "execution_count": null,
      "outputs": []
    },
    {
      "cell_type": "code",
      "metadata": {
        "colab": {
          "base_uri": "https://localhost:8080/",
          "height": 773
        },
        "id": "I1AnnVNb9D4B",
        "outputId": "c410922d-5bab-4530-9e0e-9e6817997ea6"
      },
      "source": [
        "df.replace('no','')"
      ],
      "execution_count": null,
      "outputs": [
        {
          "output_type": "execute_result",
          "data": {
            "text/html": [
              "<div>\n",
              "<style scoped>\n",
              "    .dataframe tbody tr th:only-of-type {\n",
              "        vertical-align: middle;\n",
              "    }\n",
              "\n",
              "    .dataframe tbody tr th {\n",
              "        vertical-align: top;\n",
              "    }\n",
              "\n",
              "    .dataframe thead th {\n",
              "        text-align: right;\n",
              "    }\n",
              "</style>\n",
              "<table border=\"1\" class=\"dataframe\">\n",
              "  <thead>\n",
              "    <tr style=\"text-align: right;\">\n",
              "      <th></th>\n",
              "      <th>Attributes</th>\n",
              "      <th>Created</th>\n",
              "      <th>LastMod</th>\n",
              "      <th>LastAcc</th>\n",
              "      <th>Size</th>\n",
              "      <th>Name</th>\n",
              "      <th>Path</th>\n",
              "      <th>Folder</th>\n",
              "      <th>Ext</th>\n",
              "      <th>Md5</th>\n",
              "      <th>Folders</th>\n",
              "    </tr>\n",
              "  </thead>\n",
              "  <tbody>\n",
              "    <tr>\n",
              "      <th>0</th>\n",
              "      <td>---A----</td>\n",
              "      <td>2021-01-05 19:19:00</td>\n",
              "      <td>2021-01-05 19:19:00</td>\n",
              "      <td>2021-08-12 20:58:00</td>\n",
              "      <td>22639</td>\n",
              "      <td>aksdrvsetup.log</td>\n",
              "      <td>C:\\Windows\\aksdrvsetup.log</td>\n",
              "      <td>C:\\Windows\\</td>\n",
              "      <td>log</td>\n",
              "      <td>50D08E904772E94EB4B16817EB5BE4F1</td>\n",
              "      <td>[C:, Windows, aksdrvsetup.log]</td>\n",
              "    </tr>\n",
              "    <tr>\n",
              "      <th>1</th>\n",
              "      <td>NaN</td>\n",
              "      <td>2021-04-22 19:57:00</td>\n",
              "      <td>2021-04-22 19:57:00</td>\n",
              "      <td>2021-08-12 20:58:00</td>\n",
              "      <td>77824</td>\n",
              "      <td>bfsvc.exe</td>\n",
              "      <td>C:\\Windows\\bfsvc.exe</td>\n",
              "      <td>C:\\Windows\\</td>\n",
              "      <td>exe</td>\n",
              "      <td>862251351EC170BB3BD59CB219491811</td>\n",
              "      <td>[C:, Windows, bfsvc.exe]</td>\n",
              "    </tr>\n",
              "    <tr>\n",
              "      <th>2</th>\n",
              "      <td>---A----</td>\n",
              "      <td>2020-08-18 10:52:00</td>\n",
              "      <td>2020-08-18 10:54:00</td>\n",
              "      <td>2021-08-12 20:58:00</td>\n",
              "      <td>3145782</td>\n",
              "      <td>BGInfo.bmp</td>\n",
              "      <td>C:\\Windows\\BGInfo.bmp</td>\n",
              "      <td>C:\\Windows\\</td>\n",
              "      <td>bmp</td>\n",
              "      <td>EC80E9F3112F716063C273FC1F75F552</td>\n",
              "      <td>[C:, Windows, BGInfo.bmp]</td>\n",
              "    </tr>\n",
              "    <tr>\n",
              "      <th>3</th>\n",
              "      <td>--SA----</td>\n",
              "      <td>2020-11-19 09:44:00</td>\n",
              "      <td>2021-08-12 08:45:00</td>\n",
              "      <td>2021-08-12 20:58:00</td>\n",
              "      <td>67584</td>\n",
              "      <td>bootstat.dat</td>\n",
              "      <td>C:\\Windows\\bootstat.dat</td>\n",
              "      <td>C:\\Windows\\</td>\n",
              "      <td>dat</td>\n",
              "      <td>E68A42FC4CD032E168A66925D63CB96C</td>\n",
              "      <td>[C:, Windows, bootstat.dat]</td>\n",
              "    </tr>\n",
              "    <tr>\n",
              "      <th>4</th>\n",
              "      <td>---A----</td>\n",
              "      <td>2021-04-22 18:53:00</td>\n",
              "      <td>2021-04-22 18:53:00</td>\n",
              "      <td>2021-08-12 20:58:00</td>\n",
              "      <td>762</td>\n",
              "      <td>comsetup.log</td>\n",
              "      <td>C:\\Windows\\comsetup.log</td>\n",
              "      <td>C:\\Windows\\</td>\n",
              "      <td>log</td>\n",
              "      <td>FFD6B7D88934C99E34D5A823B56A03DE</td>\n",
              "      <td>[C:, Windows, comsetup.log]</td>\n",
              "    </tr>\n",
              "    <tr>\n",
              "      <th>...</th>\n",
              "      <td>...</td>\n",
              "      <td>...</td>\n",
              "      <td>...</td>\n",
              "      <td>...</td>\n",
              "      <td>...</td>\n",
              "      <td>...</td>\n",
              "      <td>...</td>\n",
              "      <td>...</td>\n",
              "      <td>...</td>\n",
              "      <td>...</td>\n",
              "      <td>...</td>\n",
              "    </tr>\n",
              "    <tr>\n",
              "      <th>255826</th>\n",
              "      <td>NaN</td>\n",
              "      <td>2020-11-19 04:44:00</td>\n",
              "      <td>2020-11-19 04:57:00</td>\n",
              "      <td>2021-07-08 19:35:00</td>\n",
              "      <td>375276</td>\n",
              "      <td>WindowsBase.dll</td>\n",
              "      <td>C:\\Windows\\WinSxS\\x86_wpf-windowsbase_31bf3856...</td>\n",
              "      <td>C:\\Windows\\WinSxS\\x86_wpf-windowsbase_31bf3856...</td>\n",
              "      <td>dll</td>\n",
              "      <td>4F6CFC1F7C771075F17D039EB24C6276</td>\n",
              "      <td>[C:, Windows, WinSxS, x86_wpf-windowsbase_31bf...</td>\n",
              "    </tr>\n",
              "    <tr>\n",
              "      <th>255827</th>\n",
              "      <td>NaN</td>\n",
              "      <td>2021-04-22 20:02:00</td>\n",
              "      <td>2020-09-05 03:54:00</td>\n",
              "      <td>2021-07-08 19:35:00</td>\n",
              "      <td>1257472</td>\n",
              "      <td>WindowsBase.dll</td>\n",
              "      <td>C:\\Windows\\WinSxS\\x86_wpf-windowsbase_31bf3856...</td>\n",
              "      <td>C:\\Windows\\WinSxS\\x86_wpf-windowsbase_31bf3856...</td>\n",
              "      <td>dll</td>\n",
              "      <td>8280BBD8640ECF3826460903760D9774</td>\n",
              "      <td>[C:, Windows, WinSxS, x86_wpf-windowsbase_31bf...</td>\n",
              "    </tr>\n",
              "    <tr>\n",
              "      <th>255828</th>\n",
              "      <td>NaN</td>\n",
              "      <td>2020-11-19 04:44:00</td>\n",
              "      <td>2020-11-19 04:57:00</td>\n",
              "      <td>2021-07-08 19:35:00</td>\n",
              "      <td>312556</td>\n",
              "      <td>System.Workflow.Activities.dll</td>\n",
              "      <td>C:\\Windows\\WinSxS\\x86_wwf-system.workflow.acti...</td>\n",
              "      <td>C:\\Windows\\WinSxS\\x86_wwf-system.workflow.acti...</td>\n",
              "      <td>dll</td>\n",
              "      <td>DE9176C367D11585D297ACC50E113676</td>\n",
              "      <td>[C:, Windows, WinSxS, x86_wwf-system.workflow....</td>\n",
              "    </tr>\n",
              "    <tr>\n",
              "      <th>255829</th>\n",
              "      <td>NaN</td>\n",
              "      <td>2020-11-19 04:44:00</td>\n",
              "      <td>2020-11-19 04:57:00</td>\n",
              "      <td>2021-07-08 19:35:00</td>\n",
              "      <td>484222</td>\n",
              "      <td>System.Workflow.ComponentModel.dll</td>\n",
              "      <td>C:\\Windows\\WinSxS\\x86_wwf-system.workflow.comp...</td>\n",
              "      <td>C:\\Windows\\WinSxS\\x86_wwf-system.workflow.comp...</td>\n",
              "      <td>dll</td>\n",
              "      <td>B92ADB66E47707BDDCC62B850A4201E3</td>\n",
              "      <td>[C:, Windows, WinSxS, x86_wwf-system.workflow....</td>\n",
              "    </tr>\n",
              "    <tr>\n",
              "      <th>255830</th>\n",
              "      <td>NaN</td>\n",
              "      <td>2020-11-19 04:44:00</td>\n",
              "      <td>2020-11-19 04:57:00</td>\n",
              "      <td>2021-07-08 19:35:00</td>\n",
              "      <td>149554</td>\n",
              "      <td>System.Workflow.Runtime.dll</td>\n",
              "      <td>C:\\Windows\\WinSxS\\x86_wwf-system.workflow.runt...</td>\n",
              "      <td>C:\\Windows\\WinSxS\\x86_wwf-system.workflow.runt...</td>\n",
              "      <td>dll</td>\n",
              "      <td>412EF3105A13CF3111539C74E7B7F190</td>\n",
              "      <td>[C:, Windows, WinSxS, x86_wwf-system.workflow....</td>\n",
              "    </tr>\n",
              "  </tbody>\n",
              "</table>\n",
              "<p>255831 rows × 11 columns</p>\n",
              "</div>"
            ],
            "text/plain": [
              "       Attributes  ...                                            Folders\n",
              "0        ---A----  ...                     [C:, Windows, aksdrvsetup.log]\n",
              "1             NaN  ...                           [C:, Windows, bfsvc.exe]\n",
              "2        ---A----  ...                          [C:, Windows, BGInfo.bmp]\n",
              "3        --SA----  ...                        [C:, Windows, bootstat.dat]\n",
              "4        ---A----  ...                        [C:, Windows, comsetup.log]\n",
              "...           ...  ...                                                ...\n",
              "255826        NaN  ...  [C:, Windows, WinSxS, x86_wpf-windowsbase_31bf...\n",
              "255827        NaN  ...  [C:, Windows, WinSxS, x86_wpf-windowsbase_31bf...\n",
              "255828        NaN  ...  [C:, Windows, WinSxS, x86_wwf-system.workflow....\n",
              "255829        NaN  ...  [C:, Windows, WinSxS, x86_wwf-system.workflow....\n",
              "255830        NaN  ...  [C:, Windows, WinSxS, x86_wwf-system.workflow....\n",
              "\n",
              "[255831 rows x 11 columns]"
            ]
          },
          "metadata": {},
          "execution_count": 26
        }
      ]
    },
    {
      "cell_type": "markdown",
      "metadata": {
        "id": "Lo-AFouA1UIo"
      },
      "source": [
        "## 8 Reading raw text data\n",
        "\n",
        "In step 4 we read an xlsx file. Read_xlsx nicely formats out data. This is not always the case. As an example there is a small section from the dirprint file which is formatted as tab delimited test. This file has no column names but the columns are the same as in the xlsx file used above: Attributes,Created, LastMod, LastAcc, Size, Name, Path, Folder, Ext, Md5\n"
      ]
    },
    {
      "cell_type": "code",
      "metadata": {
        "colab": {
          "base_uri": "https://localhost:8080/"
        },
        "id": "XJidOsdF2WNL",
        "outputId": "c7b633c3-d929-4af8-bd30-72b3017c6f8f"
      },
      "source": [
        "# The DirPrint_Filelist_small.txt is just a small fragement of the xlsx file we used earlier\n",
        "# It contains tab delimited data and has no headers. This is a good way to start\n",
        "#\n",
        "dfs = pd.read_csv('DirPrint_Filelist_small.txt',sep='\\t')\n",
        "dfs.dtypes"
      ],
      "execution_count": null,
      "outputs": [
        {
          "output_type": "execute_result",
          "data": {
            "text/plain": [
              "---A----                            object\n",
              "1/5/2021 19:19                      object\n",
              "1/5/2021 19:19.1                    object\n",
              "8/12/2021 20:58                     object\n",
              "22,639                              object\n",
              "aksdrvsetup.log                     object\n",
              "C:\\Windows\\aksdrvsetup.log          object\n",
              "C:\\Windows\\                         object\n",
              "log                                 object\n",
              "50D08E904772E94EB4B16817EB5BE4F1    object\n",
              "dtype: object"
            ]
          },
          "metadata": {},
          "execution_count": 27
        }
      ]
    },
    {
      "cell_type": "code",
      "metadata": {
        "id": "BBniZsiI2wMh"
      },
      "source": [
        "# Compare this to the dtypes we got from read_excel (see #3 above):\n",
        "#\n",
        "# Attributes            object\n",
        "# Created       datetime64[ns]\n",
        "# LastMod       datetime64[ns]\n",
        "# LastAcc       datetime64[ns]\n",
        "# Size                   int64\n",
        "# Name                  object\n",
        "# Path                  object\n",
        "# Folder                object\n",
        "# Ext                   object\n",
        "# Md5                   object\n",
        "#\n",
        "# What's wrong?\n",
        "#\n",
        "# hint check the python docs https://pandas.pydata.org/pandas-docs/stable/reference/api/pandas.read_csv.html\n",
        "#\n"
      ],
      "execution_count": null,
      "outputs": []
    },
    {
      "cell_type": "code",
      "metadata": {
        "colab": {
          "base_uri": "https://localhost:8080/"
        },
        "id": "Lkgyefs0ocxx",
        "outputId": "fe26c7d5-a8ae-4065-ce90-2ee0081f2833"
      },
      "source": [
        "# Add column headers\n",
        "#\n",
        "dfs.columns = ['Attributes','Created','LastMod','LastAcc','Size','Name','Path','Folder','Ext','Md5']\n",
        "dfs.dtypes"
      ],
      "execution_count": null,
      "outputs": [
        {
          "output_type": "execute_result",
          "data": {
            "text/plain": [
              "Attributes    object\n",
              "Created       object\n",
              "LastMod       object\n",
              "LastAcc       object\n",
              "Size          object\n",
              "Name          object\n",
              "Path          object\n",
              "Folder        object\n",
              "Ext           object\n",
              "Md5           object\n",
              "dtype: object"
            ]
          },
          "metadata": {},
          "execution_count": 28
        }
      ]
    },
    {
      "cell_type": "code",
      "metadata": {
        "colab": {
          "base_uri": "https://localhost:8080/"
        },
        "id": "708IVuysohdQ",
        "outputId": "bef5331d-df13-4e08-b15d-eed1e1043904"
      },
      "source": [
        "# Make the Size column an int64 (we need to take care of the , thousands separator)\n",
        "#\n",
        "dfs['Size'] = dfs.Size.astype(str).str.replace(',', '').astype(np.int64)\n",
        "dfs.dtypes"
      ],
      "execution_count": null,
      "outputs": [
        {
          "output_type": "execute_result",
          "data": {
            "text/plain": [
              "Attributes    object\n",
              "Created       object\n",
              "LastMod       object\n",
              "LastAcc       object\n",
              "Size           int64\n",
              "Name          object\n",
              "Path          object\n",
              "Folder        object\n",
              "Ext           object\n",
              "Md5           object\n",
              "dtype: object"
            ]
          },
          "metadata": {},
          "execution_count": 30
        }
      ]
    },
    {
      "cell_type": "code",
      "metadata": {
        "colab": {
          "base_uri": "https://localhost:8080/"
        },
        "id": "L35D0z1soq9d",
        "outputId": "bfeeaec3-9cf9-4c13-89f8-d859521ce54d"
      },
      "source": [
        "# Parse the dates\n",
        "dfs['Created'] = pd.to_datetime(dfs['Created'])\n",
        "dfs['LastMod'] = pd.to_datetime(dfs['LastMod'])\n",
        "dfs['LastAcc'] = pd.to_datetime(dfs['LastAcc'])\n",
        "dfs.dtypes"
      ],
      "execution_count": null,
      "outputs": [
        {
          "output_type": "execute_result",
          "data": {
            "text/plain": [
              "Attributes            object\n",
              "Created       datetime64[ns]\n",
              "LastMod       datetime64[ns]\n",
              "LastAcc       datetime64[ns]\n",
              "Size                   int64\n",
              "Name                  object\n",
              "Path                  object\n",
              "Folder                object\n",
              "Ext                   object\n",
              "Md5                   object\n",
              "dtype: object"
            ]
          },
          "metadata": {},
          "execution_count": 31
        }
      ]
    },
    {
      "cell_type": "code",
      "metadata": {
        "colab": {
          "base_uri": "https://localhost:8080/"
        },
        "id": "E_86h2aLrrzX",
        "outputId": "33917857-fb6e-44a7-95c4-89a52ae54158"
      },
      "source": [
        "# With these operations we have now cleaned/formatted the tab delimited file\n",
        "# in come cases we want a column the be the index of the data frame. \n",
        "# \n",
        "dfs = dfs.set_index(\"LastMod\")\n",
        "dfs.dtypes"
      ],
      "execution_count": null,
      "outputs": [
        {
          "output_type": "execute_result",
          "data": {
            "text/plain": [
              "Attributes            object\n",
              "Created       datetime64[ns]\n",
              "LastAcc       datetime64[ns]\n",
              "Size                   int64\n",
              "Name                  object\n",
              "Path                  object\n",
              "Folder                object\n",
              "Ext                   object\n",
              "Md5                   object\n",
              "dtype: object"
            ]
          },
          "metadata": {},
          "execution_count": 32
        }
      ]
    },
    {
      "cell_type": "code",
      "metadata": {
        "colab": {
          "base_uri": "https://localhost:8080/",
          "height": 803
        },
        "id": "R3pL_7p7LoyL",
        "outputId": "ecf73b15-9d7d-4214-c0e5-60a4c9d3be0e"
      },
      "source": [
        "dfs"
      ],
      "execution_count": null,
      "outputs": [
        {
          "output_type": "execute_result",
          "data": {
            "text/html": [
              "<div>\n",
              "<style scoped>\n",
              "    .dataframe tbody tr th:only-of-type {\n",
              "        vertical-align: middle;\n",
              "    }\n",
              "\n",
              "    .dataframe tbody tr th {\n",
              "        vertical-align: top;\n",
              "    }\n",
              "\n",
              "    .dataframe thead th {\n",
              "        text-align: right;\n",
              "    }\n",
              "</style>\n",
              "<table border=\"1\" class=\"dataframe\">\n",
              "  <thead>\n",
              "    <tr style=\"text-align: right;\">\n",
              "      <th></th>\n",
              "      <th>Attributes</th>\n",
              "      <th>Created</th>\n",
              "      <th>LastAcc</th>\n",
              "      <th>Size</th>\n",
              "      <th>Name</th>\n",
              "      <th>Path</th>\n",
              "      <th>Folder</th>\n",
              "      <th>Ext</th>\n",
              "      <th>Md5</th>\n",
              "    </tr>\n",
              "    <tr>\n",
              "      <th>LastMod</th>\n",
              "      <th></th>\n",
              "      <th></th>\n",
              "      <th></th>\n",
              "      <th></th>\n",
              "      <th></th>\n",
              "      <th></th>\n",
              "      <th></th>\n",
              "      <th></th>\n",
              "      <th></th>\n",
              "    </tr>\n",
              "  </thead>\n",
              "  <tbody>\n",
              "    <tr>\n",
              "      <th>2021-04-22 19:57:00</th>\n",
              "      <td>---A---X</td>\n",
              "      <td>2021-04-22 19:57:00</td>\n",
              "      <td>2021-08-12 20:58:00</td>\n",
              "      <td>77824</td>\n",
              "      <td>bfsvc.exe</td>\n",
              "      <td>C:\\Windows\\bfsvc.exe</td>\n",
              "      <td>C:\\Windows\\</td>\n",
              "      <td>exe</td>\n",
              "      <td>862251351EC170BB3BD59CB219491811</td>\n",
              "    </tr>\n",
              "    <tr>\n",
              "      <th>2020-08-18 10:54:00</th>\n",
              "      <td>---A----</td>\n",
              "      <td>2020-08-18 10:52:00</td>\n",
              "      <td>2021-08-12 20:58:00</td>\n",
              "      <td>3145782</td>\n",
              "      <td>BGInfo.bmp</td>\n",
              "      <td>C:\\Windows\\BGInfo.bmp</td>\n",
              "      <td>C:\\Windows\\</td>\n",
              "      <td>bmp</td>\n",
              "      <td>EC80E9F3112F716063C273FC1F75F552</td>\n",
              "    </tr>\n",
              "    <tr>\n",
              "      <th>2021-08-12 08:45:00</th>\n",
              "      <td>--SA----</td>\n",
              "      <td>2020-11-19 09:44:00</td>\n",
              "      <td>2021-08-12 20:58:00</td>\n",
              "      <td>67584</td>\n",
              "      <td>bootstat.dat</td>\n",
              "      <td>C:\\Windows\\bootstat.dat</td>\n",
              "      <td>C:\\Windows\\</td>\n",
              "      <td>dat</td>\n",
              "      <td>E68A42FC4CD032E168A66925D63CB96C</td>\n",
              "    </tr>\n",
              "    <tr>\n",
              "      <th>2021-04-22 18:53:00</th>\n",
              "      <td>---A----</td>\n",
              "      <td>2021-04-22 18:53:00</td>\n",
              "      <td>2021-08-12 20:58:00</td>\n",
              "      <td>762</td>\n",
              "      <td>comsetup.log</td>\n",
              "      <td>C:\\Windows\\comsetup.log</td>\n",
              "      <td>C:\\Windows\\</td>\n",
              "      <td>log</td>\n",
              "      <td>FFD6B7D88934C99E34D5A823B56A03DE</td>\n",
              "    </tr>\n",
              "    <tr>\n",
              "      <th>2018-09-15 09:28:00</th>\n",
              "      <td>---A----</td>\n",
              "      <td>2018-10-30 00:53:00</td>\n",
              "      <td>2021-08-12 20:58:00</td>\n",
              "      <td>33951</td>\n",
              "      <td>CoreSingleLanguage.xml</td>\n",
              "      <td>C:\\Windows\\CoreSingleLanguage.xml</td>\n",
              "      <td>C:\\Windows\\</td>\n",
              "      <td>xml</td>\n",
              "      <td>1F334AC7713E228137147CBFBB7BC9AA</td>\n",
              "    </tr>\n",
              "    <tr>\n",
              "      <th>...</th>\n",
              "      <td>...</td>\n",
              "      <td>...</td>\n",
              "      <td>...</td>\n",
              "      <td>...</td>\n",
              "      <td>...</td>\n",
              "      <td>...</td>\n",
              "      <td>...</td>\n",
              "      <td>...</td>\n",
              "      <td>...</td>\n",
              "    </tr>\n",
              "    <tr>\n",
              "      <th>2015-07-31 09:57:00</th>\n",
              "      <td>R--A----</td>\n",
              "      <td>2015-07-31 09:57:00</td>\n",
              "      <td>2021-08-12 20:59:00</td>\n",
              "      <td>309936</td>\n",
              "      <td>AS_DataWarehouse_Dll_32_1053.B4988E63_555A_4DE...</td>\n",
              "      <td>C:\\Windows\\Installer\\$PatchCache$\\Managed\\0000...</td>\n",
              "      <td>C:\\Windows\\Installer\\$PatchCache$\\Managed\\0000...</td>\n",
              "      <td>B4988E63_555A_4DEB_A5F4_A9E5864569F1</td>\n",
              "      <td>74BEED7208B5C2C57FE6C371198E1663</td>\n",
              "    </tr>\n",
              "    <tr>\n",
              "      <th>2015-07-31 09:57:00</th>\n",
              "      <td>R--A----</td>\n",
              "      <td>2015-07-31 09:57:00</td>\n",
              "      <td>2021-08-12 20:59:00</td>\n",
              "      <td>318128</td>\n",
              "      <td>AS_DataWarehouse_Dll_32_1054.B4988E63_555A_4DE...</td>\n",
              "      <td>C:\\Windows\\Installer\\$PatchCache$\\Managed\\0000...</td>\n",
              "      <td>C:\\Windows\\Installer\\$PatchCache$\\Managed\\0000...</td>\n",
              "      <td>B4988E63_555A_4DEB_A5F4_A9E5864569F1</td>\n",
              "      <td>72FB831C4DF9DDC37E0E333849A6FC00</td>\n",
              "    </tr>\n",
              "    <tr>\n",
              "      <th>2015-07-31 09:57:00</th>\n",
              "      <td>R--A----</td>\n",
              "      <td>2015-07-31 09:57:00</td>\n",
              "      <td>2021-08-12 20:59:00</td>\n",
              "      <td>309936</td>\n",
              "      <td>AS_DataWarehouse_Dll_32_1055.B4988E63_555A_4DE...</td>\n",
              "      <td>C:\\Windows\\Installer\\$PatchCache$\\Managed\\0000...</td>\n",
              "      <td>C:\\Windows\\Installer\\$PatchCache$\\Managed\\0000...</td>\n",
              "      <td>B4988E63_555A_4DEB_A5F4_A9E5864569F1</td>\n",
              "      <td>B0ECAFE34CB4B820D621DE096748B827</td>\n",
              "    </tr>\n",
              "    <tr>\n",
              "      <th>2015-07-31 09:57:00</th>\n",
              "      <td>R--A----</td>\n",
              "      <td>2015-07-31 09:57:00</td>\n",
              "      <td>2021-08-12 20:59:00</td>\n",
              "      <td>305840</td>\n",
              "      <td>AS_DataWarehouse_Dll_32_1057.B4988E63_555A_4DE...</td>\n",
              "      <td>C:\\Windows\\Installer\\$PatchCache$\\Managed\\0000...</td>\n",
              "      <td>C:\\Windows\\Installer\\$PatchCache$\\Managed\\0000...</td>\n",
              "      <td>B4988E63_555A_4DEB_A5F4_A9E5864569F1</td>\n",
              "      <td>F5816D4CAFFEF34B24AB7D58BC63608B</td>\n",
              "    </tr>\n",
              "    <tr>\n",
              "      <th>2015-07-31 09:57:00</th>\n",
              "      <td>R--A----</td>\n",
              "      <td>2015-07-31 09:57:00</td>\n",
              "      <td>2021-08-12 20:59:00</td>\n",
              "      <td>314032</td>\n",
              "      <td>AS_DataWarehouse_Dll_32_1058.B4988E63_555A_4DE...</td>\n",
              "      <td>C:\\Windows\\Installer\\$PatchCache$\\Managed\\0000...</td>\n",
              "      <td>C:\\Windows\\Installer\\$PatchCache$\\Managed\\0000...</td>\n",
              "      <td>B4988E63_555A_4DEB_A5F4_A9E5864569F1</td>\n",
              "      <td>F32CEAEDE2D690146D3F35B9E7825067</td>\n",
              "    </tr>\n",
              "  </tbody>\n",
              "</table>\n",
              "<p>4983 rows × 9 columns</p>\n",
              "</div>"
            ],
            "text/plain": [
              "                    Attributes  ...                               Md5\n",
              "LastMod                         ...                                  \n",
              "2021-04-22 19:57:00   ---A---X  ...  862251351EC170BB3BD59CB219491811\n",
              "2020-08-18 10:54:00   ---A----  ...  EC80E9F3112F716063C273FC1F75F552\n",
              "2021-08-12 08:45:00   --SA----  ...  E68A42FC4CD032E168A66925D63CB96C\n",
              "2021-04-22 18:53:00   ---A----  ...  FFD6B7D88934C99E34D5A823B56A03DE\n",
              "2018-09-15 09:28:00   ---A----  ...  1F334AC7713E228137147CBFBB7BC9AA\n",
              "...                        ...  ...                               ...\n",
              "2015-07-31 09:57:00   R--A----  ...  74BEED7208B5C2C57FE6C371198E1663\n",
              "2015-07-31 09:57:00   R--A----  ...  72FB831C4DF9DDC37E0E333849A6FC00\n",
              "2015-07-31 09:57:00   R--A----  ...  B0ECAFE34CB4B820D621DE096748B827\n",
              "2015-07-31 09:57:00   R--A----  ...  F5816D4CAFFEF34B24AB7D58BC63608B\n",
              "2015-07-31 09:57:00   R--A----  ...  F32CEAEDE2D690146D3F35B9E7825067\n",
              "\n",
              "[4983 rows x 9 columns]"
            ]
          },
          "metadata": {},
          "execution_count": 33
        }
      ]
    },
    {
      "cell_type": "code",
      "metadata": {
        "id": "GI7zU6IXnyLZ",
        "colab": {
          "base_uri": "https://localhost:8080/"
        },
        "outputId": "33b77c83-1f13-4ff6-ffaa-2d2001565876"
      },
      "source": [
        "# If you need to repeat this process for multiple files it is also possible to\n",
        "# specify this in the call to read_csv as follows\n",
        "#\n",
        "mydateparser = lambda x: pd.datetime.strptime(x, '%m/%d/%Y %H:%M')\n",
        "dfs = pd.read_csv(\n",
        "    \"DirPrint_Filelist_small.txt\", \n",
        "    sep=\"\\t\",usecols=[0,1,2,3,4,5,6,7,8,9],\n",
        "    names=['Attributes','Created','LastMod','LastAcc','Size','Name','Path','Folder','Ext','Md5'],\n",
        "    index_col='LastMod',\n",
        "    header=0,\n",
        "    dtype={'Size':np.int64},\n",
        "    thousands=',',\n",
        "    parse_dates = ['Created', 'LastMod','LastAcc'],\n",
        "    date_parser=mydateparser\n",
        "    )   \n",
        "df.dtypes"
      ],
      "execution_count": null,
      "outputs": [
        {
          "output_type": "stream",
          "text": [
            "/usr/local/lib/python3.7/dist-packages/ipykernel_launcher.py:4: FutureWarning: The pandas.datetime class is deprecated and will be removed from pandas in a future version. Import from datetime module instead.\n",
            "  after removing the cwd from sys.path.\n"
          ],
          "name": "stderr"
        },
        {
          "output_type": "execute_result",
          "data": {
            "text/plain": [
              "Attributes            object\n",
              "Created       datetime64[ns]\n",
              "LastAcc       datetime64[ns]\n",
              "Size                   int64\n",
              "Name                  object\n",
              "Path                  object\n",
              "Folder                object\n",
              "Ext                   object\n",
              "Md5                   object\n",
              "dtype: object"
            ]
          },
          "metadata": {},
          "execution_count": 39
        }
      ]
    },
    {
      "cell_type": "code",
      "metadata": {
        "colab": {
          "base_uri": "https://localhost:8080/",
          "height": 803
        },
        "id": "Szb6BXQ3MMBL",
        "outputId": "468b1963-5302-437d-cda2-31a4c5a33230"
      },
      "source": [
        "df"
      ],
      "execution_count": null,
      "outputs": [
        {
          "output_type": "execute_result",
          "data": {
            "text/html": [
              "<div>\n",
              "<style scoped>\n",
              "    .dataframe tbody tr th:only-of-type {\n",
              "        vertical-align: middle;\n",
              "    }\n",
              "\n",
              "    .dataframe tbody tr th {\n",
              "        vertical-align: top;\n",
              "    }\n",
              "\n",
              "    .dataframe thead th {\n",
              "        text-align: right;\n",
              "    }\n",
              "</style>\n",
              "<table border=\"1\" class=\"dataframe\">\n",
              "  <thead>\n",
              "    <tr style=\"text-align: right;\">\n",
              "      <th></th>\n",
              "      <th>Attributes</th>\n",
              "      <th>Created</th>\n",
              "      <th>LastAcc</th>\n",
              "      <th>Size</th>\n",
              "      <th>Name</th>\n",
              "      <th>Path</th>\n",
              "      <th>Folder</th>\n",
              "      <th>Ext</th>\n",
              "      <th>Md5</th>\n",
              "    </tr>\n",
              "    <tr>\n",
              "      <th>LastMod</th>\n",
              "      <th></th>\n",
              "      <th></th>\n",
              "      <th></th>\n",
              "      <th></th>\n",
              "      <th></th>\n",
              "      <th></th>\n",
              "      <th></th>\n",
              "      <th></th>\n",
              "      <th></th>\n",
              "    </tr>\n",
              "  </thead>\n",
              "  <tbody>\n",
              "    <tr>\n",
              "      <th>2021-04-22 19:57:00</th>\n",
              "      <td>---A---X</td>\n",
              "      <td>2021-04-22 19:57:00</td>\n",
              "      <td>2021-08-12 20:58:00</td>\n",
              "      <td>77824</td>\n",
              "      <td>bfsvc.exe</td>\n",
              "      <td>C:\\Windows\\bfsvc.exe</td>\n",
              "      <td>C:\\Windows\\</td>\n",
              "      <td>exe</td>\n",
              "      <td>862251351EC170BB3BD59CB219491811</td>\n",
              "    </tr>\n",
              "    <tr>\n",
              "      <th>2020-08-18 10:54:00</th>\n",
              "      <td>---A----</td>\n",
              "      <td>2020-08-18 10:52:00</td>\n",
              "      <td>2021-08-12 20:58:00</td>\n",
              "      <td>3145782</td>\n",
              "      <td>BGInfo.bmp</td>\n",
              "      <td>C:\\Windows\\BGInfo.bmp</td>\n",
              "      <td>C:\\Windows\\</td>\n",
              "      <td>bmp</td>\n",
              "      <td>EC80E9F3112F716063C273FC1F75F552</td>\n",
              "    </tr>\n",
              "    <tr>\n",
              "      <th>2021-08-12 08:45:00</th>\n",
              "      <td>--SA----</td>\n",
              "      <td>2020-11-19 09:44:00</td>\n",
              "      <td>2021-08-12 20:58:00</td>\n",
              "      <td>67584</td>\n",
              "      <td>bootstat.dat</td>\n",
              "      <td>C:\\Windows\\bootstat.dat</td>\n",
              "      <td>C:\\Windows\\</td>\n",
              "      <td>dat</td>\n",
              "      <td>E68A42FC4CD032E168A66925D63CB96C</td>\n",
              "    </tr>\n",
              "    <tr>\n",
              "      <th>2021-04-22 18:53:00</th>\n",
              "      <td>---A----</td>\n",
              "      <td>2021-04-22 18:53:00</td>\n",
              "      <td>2021-08-12 20:58:00</td>\n",
              "      <td>762</td>\n",
              "      <td>comsetup.log</td>\n",
              "      <td>C:\\Windows\\comsetup.log</td>\n",
              "      <td>C:\\Windows\\</td>\n",
              "      <td>log</td>\n",
              "      <td>FFD6B7D88934C99E34D5A823B56A03DE</td>\n",
              "    </tr>\n",
              "    <tr>\n",
              "      <th>2018-09-15 09:28:00</th>\n",
              "      <td>---A----</td>\n",
              "      <td>2018-10-30 00:53:00</td>\n",
              "      <td>2021-08-12 20:58:00</td>\n",
              "      <td>33951</td>\n",
              "      <td>CoreSingleLanguage.xml</td>\n",
              "      <td>C:\\Windows\\CoreSingleLanguage.xml</td>\n",
              "      <td>C:\\Windows\\</td>\n",
              "      <td>xml</td>\n",
              "      <td>1F334AC7713E228137147CBFBB7BC9AA</td>\n",
              "    </tr>\n",
              "    <tr>\n",
              "      <th>...</th>\n",
              "      <td>...</td>\n",
              "      <td>...</td>\n",
              "      <td>...</td>\n",
              "      <td>...</td>\n",
              "      <td>...</td>\n",
              "      <td>...</td>\n",
              "      <td>...</td>\n",
              "      <td>...</td>\n",
              "      <td>...</td>\n",
              "    </tr>\n",
              "    <tr>\n",
              "      <th>2015-07-31 09:57:00</th>\n",
              "      <td>R--A----</td>\n",
              "      <td>2015-07-31 09:57:00</td>\n",
              "      <td>2021-08-12 20:59:00</td>\n",
              "      <td>309936</td>\n",
              "      <td>AS_DataWarehouse_Dll_32_1053.B4988E63_555A_4DE...</td>\n",
              "      <td>C:\\Windows\\Installer\\$PatchCache$\\Managed\\0000...</td>\n",
              "      <td>C:\\Windows\\Installer\\$PatchCache$\\Managed\\0000...</td>\n",
              "      <td>B4988E63_555A_4DEB_A5F4_A9E5864569F1</td>\n",
              "      <td>74BEED7208B5C2C57FE6C371198E1663</td>\n",
              "    </tr>\n",
              "    <tr>\n",
              "      <th>2015-07-31 09:57:00</th>\n",
              "      <td>R--A----</td>\n",
              "      <td>2015-07-31 09:57:00</td>\n",
              "      <td>2021-08-12 20:59:00</td>\n",
              "      <td>318128</td>\n",
              "      <td>AS_DataWarehouse_Dll_32_1054.B4988E63_555A_4DE...</td>\n",
              "      <td>C:\\Windows\\Installer\\$PatchCache$\\Managed\\0000...</td>\n",
              "      <td>C:\\Windows\\Installer\\$PatchCache$\\Managed\\0000...</td>\n",
              "      <td>B4988E63_555A_4DEB_A5F4_A9E5864569F1</td>\n",
              "      <td>72FB831C4DF9DDC37E0E333849A6FC00</td>\n",
              "    </tr>\n",
              "    <tr>\n",
              "      <th>2015-07-31 09:57:00</th>\n",
              "      <td>R--A----</td>\n",
              "      <td>2015-07-31 09:57:00</td>\n",
              "      <td>2021-08-12 20:59:00</td>\n",
              "      <td>309936</td>\n",
              "      <td>AS_DataWarehouse_Dll_32_1055.B4988E63_555A_4DE...</td>\n",
              "      <td>C:\\Windows\\Installer\\$PatchCache$\\Managed\\0000...</td>\n",
              "      <td>C:\\Windows\\Installer\\$PatchCache$\\Managed\\0000...</td>\n",
              "      <td>B4988E63_555A_4DEB_A5F4_A9E5864569F1</td>\n",
              "      <td>B0ECAFE34CB4B820D621DE096748B827</td>\n",
              "    </tr>\n",
              "    <tr>\n",
              "      <th>2015-07-31 09:57:00</th>\n",
              "      <td>R--A----</td>\n",
              "      <td>2015-07-31 09:57:00</td>\n",
              "      <td>2021-08-12 20:59:00</td>\n",
              "      <td>305840</td>\n",
              "      <td>AS_DataWarehouse_Dll_32_1057.B4988E63_555A_4DE...</td>\n",
              "      <td>C:\\Windows\\Installer\\$PatchCache$\\Managed\\0000...</td>\n",
              "      <td>C:\\Windows\\Installer\\$PatchCache$\\Managed\\0000...</td>\n",
              "      <td>B4988E63_555A_4DEB_A5F4_A9E5864569F1</td>\n",
              "      <td>F5816D4CAFFEF34B24AB7D58BC63608B</td>\n",
              "    </tr>\n",
              "    <tr>\n",
              "      <th>2015-07-31 09:57:00</th>\n",
              "      <td>R--A----</td>\n",
              "      <td>2015-07-31 09:57:00</td>\n",
              "      <td>2021-08-12 20:59:00</td>\n",
              "      <td>314032</td>\n",
              "      <td>AS_DataWarehouse_Dll_32_1058.B4988E63_555A_4DE...</td>\n",
              "      <td>C:\\Windows\\Installer\\$PatchCache$\\Managed\\0000...</td>\n",
              "      <td>C:\\Windows\\Installer\\$PatchCache$\\Managed\\0000...</td>\n",
              "      <td>B4988E63_555A_4DEB_A5F4_A9E5864569F1</td>\n",
              "      <td>F32CEAEDE2D690146D3F35B9E7825067</td>\n",
              "    </tr>\n",
              "  </tbody>\n",
              "</table>\n",
              "<p>4983 rows × 9 columns</p>\n",
              "</div>"
            ],
            "text/plain": [
              "                    Attributes  ...                               Md5\n",
              "LastMod                         ...                                  \n",
              "2021-04-22 19:57:00   ---A---X  ...  862251351EC170BB3BD59CB219491811\n",
              "2020-08-18 10:54:00   ---A----  ...  EC80E9F3112F716063C273FC1F75F552\n",
              "2021-08-12 08:45:00   --SA----  ...  E68A42FC4CD032E168A66925D63CB96C\n",
              "2021-04-22 18:53:00   ---A----  ...  FFD6B7D88934C99E34D5A823B56A03DE\n",
              "2018-09-15 09:28:00   ---A----  ...  1F334AC7713E228137147CBFBB7BC9AA\n",
              "...                        ...  ...                               ...\n",
              "2015-07-31 09:57:00   R--A----  ...  74BEED7208B5C2C57FE6C371198E1663\n",
              "2015-07-31 09:57:00   R--A----  ...  72FB831C4DF9DDC37E0E333849A6FC00\n",
              "2015-07-31 09:57:00   R--A----  ...  B0ECAFE34CB4B820D621DE096748B827\n",
              "2015-07-31 09:57:00   R--A----  ...  F5816D4CAFFEF34B24AB7D58BC63608B\n",
              "2015-07-31 09:57:00   R--A----  ...  F32CEAEDE2D690146D3F35B9E7825067\n",
              "\n",
              "[4983 rows x 9 columns]"
            ]
          },
          "metadata": {},
          "execution_count": 35
        }
      ]
    },
    {
      "cell_type": "code",
      "metadata": {
        "colab": {
          "base_uri": "https://localhost:8080/"
        },
        "id": "EwUSNoMQtWPA",
        "outputId": "77a687c2-4817-4dbb-e60d-4ce1713e17fc"
      },
      "source": [
        "# the datetime type also supports extracting year, month and day of the month\n",
        "\n",
        "pd.DatetimeIndex(dfs['Created']).year"
      ],
      "execution_count": null,
      "outputs": [
        {
          "output_type": "execute_result",
          "data": {
            "text/plain": [
              "Int64Index([2021, 2020, 2020, 2021, 2018, 2019, 2021, 2021, 2020, 2019,\n",
              "            ...\n",
              "            2015, 2015, 2015, 2015, 2015, 2015, 2015, 2015, 2015, 2015],\n",
              "           dtype='int64', name='Created', length=4983)"
            ]
          },
          "metadata": {},
          "execution_count": 40
        }
      ]
    },
    {
      "cell_type": "code",
      "metadata": {
        "colab": {
          "base_uri": "https://localhost:8080/"
        },
        "id": "0TkNhOqjuzsu",
        "outputId": "8251d21d-e1ea-486b-b229-dc9252da8cb6"
      },
      "source": [
        "pd.DatetimeIndex(dfs['Created']).month"
      ],
      "execution_count": null,
      "outputs": [
        {
          "output_type": "execute_result",
          "data": {
            "text/plain": [
              "Int64Index([ 4,  8, 11,  4, 10,  7,  4,  4,  8, 12,\n",
              "            ...\n",
              "             7,  7,  7,  7,  7,  7,  7,  7,  7,  7],\n",
              "           dtype='int64', name='Created', length=4983)"
            ]
          },
          "metadata": {},
          "execution_count": 41
        }
      ]
    },
    {
      "cell_type": "code",
      "metadata": {
        "colab": {
          "base_uri": "https://localhost:8080/"
        },
        "id": "T0q_G7qTu2Np",
        "outputId": "42a3454e-9127-40d4-9bfa-ca3f27e9b413"
      },
      "source": [
        "pd.DatetimeIndex(dfs['Created']).day"
      ],
      "execution_count": null,
      "outputs": [
        {
          "output_type": "execute_result",
          "data": {
            "text/plain": [
              "Int64Index([22, 18, 19, 22, 30, 29, 22, 22, 18,  7,\n",
              "            ...\n",
              "            31, 31, 31, 31, 31, 31, 31, 31, 31, 31],\n",
              "           dtype='int64', name='Created', length=4983)"
            ]
          },
          "metadata": {},
          "execution_count": 42
        }
      ]
    },
    {
      "cell_type": "code",
      "metadata": {
        "colab": {
          "base_uri": "https://localhost:8080/"
        },
        "id": "Aj70oN0Hu5iz",
        "outputId": "27f54090-abe1-463d-bee4-85ec8c1187ac"
      },
      "source": [
        "# and even week\n",
        "#\n",
        "pd.DatetimeIndex(dfs['Created']).week"
      ],
      "execution_count": null,
      "outputs": [
        {
          "output_type": "stream",
          "text": [
            "/usr/local/lib/python3.7/dist-packages/ipykernel_launcher.py:3: FutureWarning: weekofyear and week have been deprecated, please use DatetimeIndex.isocalendar().week instead, which returns a Series.  To exactly reproduce the behavior of week and weekofyear and return an Index, you may call pd.Int64Index(idx.isocalendar().week)\n",
            "  This is separate from the ipykernel package so we can avoid doing imports until\n"
          ],
          "name": "stderr"
        },
        {
          "output_type": "execute_result",
          "data": {
            "text/plain": [
              "Int64Index([16, 34, 47, 16, 44, 31, 16, 16, 34, 49,\n",
              "            ...\n",
              "            31, 31, 31, 31, 31, 31, 31, 31, 31, 31],\n",
              "           dtype='int64', name='Created', length=4983)"
            ]
          },
          "metadata": {},
          "execution_count": 43
        }
      ]
    },
    {
      "cell_type": "markdown",
      "metadata": {
        "id": "gvr4LJqHIAyY"
      },
      "source": [
        "## 9 Filtering and sorting\n",
        "Here are some basic commands for filtering and sorting the data in your data frames."
      ]
    },
    {
      "cell_type": "code",
      "metadata": {
        "colab": {
          "base_uri": "https://localhost:8080/",
          "height": 773
        },
        "id": "g-tJtATUICZD",
        "outputId": "3334b216-2bb3-42ef-fc7e-6cc6983184fd"
      },
      "source": [
        "df.sort_values(by=['Name','Size'],ascending=True)"
      ],
      "execution_count": null,
      "outputs": [
        {
          "output_type": "execute_result",
          "data": {
            "text/html": [
              "<div>\n",
              "<style scoped>\n",
              "    .dataframe tbody tr th:only-of-type {\n",
              "        vertical-align: middle;\n",
              "    }\n",
              "\n",
              "    .dataframe tbody tr th {\n",
              "        vertical-align: top;\n",
              "    }\n",
              "\n",
              "    .dataframe thead th {\n",
              "        text-align: right;\n",
              "    }\n",
              "</style>\n",
              "<table border=\"1\" class=\"dataframe\">\n",
              "  <thead>\n",
              "    <tr style=\"text-align: right;\">\n",
              "      <th></th>\n",
              "      <th>Attributes</th>\n",
              "      <th>Created</th>\n",
              "      <th>LastMod</th>\n",
              "      <th>LastAcc</th>\n",
              "      <th>Size</th>\n",
              "      <th>Name</th>\n",
              "      <th>Path</th>\n",
              "      <th>Folder</th>\n",
              "      <th>Ext</th>\n",
              "      <th>Md5</th>\n",
              "    </tr>\n",
              "  </thead>\n",
              "  <tbody>\n",
              "    <tr>\n",
              "      <th>224416</th>\n",
              "      <td>---A----</td>\n",
              "      <td>2019-12-07 11:14:00</td>\n",
              "      <td>2021-07-21 18:14:00</td>\n",
              "      <td>2021-08-11 04:33:00</td>\n",
              "      <td>3328</td>\n",
              "      <td>$$.cdf-ms</td>\n",
              "      <td>C:\\Windows\\WinSxS\\FileMaps\\$$.cdf-ms</td>\n",
              "      <td>C:\\Windows\\WinSxS\\FileMaps\\</td>\n",
              "      <td>cdf-ms</td>\n",
              "      <td>D6AA98DA11E1ACD3E82998EFAEE3F623</td>\n",
              "    </tr>\n",
              "    <tr>\n",
              "      <th>224417</th>\n",
              "      <td>---A----</td>\n",
              "      <td>2019-12-07 11:51:00</td>\n",
              "      <td>2019-12-07 11:51:00</td>\n",
              "      <td>2021-08-07 10:17:00</td>\n",
              "      <td>632</td>\n",
              "      <td>$$_addins_2452dff8cb692cdd.cdf-ms</td>\n",
              "      <td>C:\\Windows\\WinSxS\\FileMaps\\$$_addins_2452dff8c...</td>\n",
              "      <td>C:\\Windows\\WinSxS\\FileMaps\\</td>\n",
              "      <td>cdf-ms</td>\n",
              "      <td>AF7652FBFF850A0864CC789E42AAA313</td>\n",
              "    </tr>\n",
              "    <tr>\n",
              "      <th>224418</th>\n",
              "      <td>---A----</td>\n",
              "      <td>2019-12-07 11:14:00</td>\n",
              "      <td>2021-07-08 12:48:00</td>\n",
              "      <td>2021-08-10 11:25:00</td>\n",
              "      <td>580</td>\n",
              "      <td>$$_appcompat_appraiser_33781004733ffeee.cdf-ms</td>\n",
              "      <td>C:\\Windows\\WinSxS\\FileMaps\\$$_appcompat_apprai...</td>\n",
              "      <td>C:\\Windows\\WinSxS\\FileMaps\\</td>\n",
              "      <td>cdf-ms</td>\n",
              "      <td>F6A9344D5EBB98EF34AD15788BD9BF3B</td>\n",
              "    </tr>\n",
              "    <tr>\n",
              "      <th>224419</th>\n",
              "      <td>---A----</td>\n",
              "      <td>2019-12-07 11:14:00</td>\n",
              "      <td>2021-07-08 12:48:00</td>\n",
              "      <td>2021-08-10 11:25:00</td>\n",
              "      <td>592</td>\n",
              "      <td>$$_appcompat_appraiser_telemetry_94274e99519f5...</td>\n",
              "      <td>C:\\Windows\\WinSxS\\FileMaps\\$$_appcompat_apprai...</td>\n",
              "      <td>C:\\Windows\\WinSxS\\FileMaps\\</td>\n",
              "      <td>cdf-ms</td>\n",
              "      <td>3009EC2BC701A131BFD1A9E52025BC80</td>\n",
              "    </tr>\n",
              "    <tr>\n",
              "      <th>224420</th>\n",
              "      <td>---A----</td>\n",
              "      <td>2019-12-07 11:14:00</td>\n",
              "      <td>2021-04-22 20:01:00</td>\n",
              "      <td>2021-08-07 10:17:00</td>\n",
              "      <td>576</td>\n",
              "      <td>$$_appcompat_programs_99c7f419bd54f4ca.cdf-ms</td>\n",
              "      <td>C:\\Windows\\WinSxS\\FileMaps\\$$_appcompat_progra...</td>\n",
              "      <td>C:\\Windows\\WinSxS\\FileMaps\\</td>\n",
              "      <td>cdf-ms</td>\n",
              "      <td>31630B7D032F521C9AC8203819AD2EB1</td>\n",
              "    </tr>\n",
              "    <tr>\n",
              "      <th>...</th>\n",
              "      <td>...</td>\n",
              "      <td>...</td>\n",
              "      <td>...</td>\n",
              "      <td>...</td>\n",
              "      <td>...</td>\n",
              "      <td>...</td>\n",
              "      <td>...</td>\n",
              "      <td>...</td>\n",
              "      <td>...</td>\n",
              "      <td>...</td>\n",
              "    </tr>\n",
              "    <tr>\n",
              "      <th>166004</th>\n",
              "      <td>--------</td>\n",
              "      <td>2021-07-21 18:08:00</td>\n",
              "      <td>2021-06-10 05:40:00</td>\n",
              "      <td>2021-07-21 18:08:00</td>\n",
              "      <td>216</td>\n",
              "      <td>{a5a7c794-3d59-41df-915f-19acda526fc9}4105.bin</td>\n",
              "      <td>C:\\Windows\\servicing\\LCU\\Package_for_RollupFix...</td>\n",
              "      <td>C:\\Windows\\servicing\\LCU\\Package_for_RollupFix...</td>\n",
              "      <td>bin</td>\n",
              "      <td>88ECF7F38CCD880C509C9706D42B0A42</td>\n",
              "    </tr>\n",
              "    <tr>\n",
              "      <th>57104</th>\n",
              "      <td>--------</td>\n",
              "      <td>2021-07-08 12:41:00</td>\n",
              "      <td>2021-06-10 05:40:00</td>\n",
              "      <td>2021-07-08 12:41:00</td>\n",
              "      <td>301</td>\n",
              "      <td>{a5a7c794-3d59-41df-915f-19acda526fc9}4105.bin</td>\n",
              "      <td>C:\\Windows\\servicing\\LCU\\Package_for_RollupFix...</td>\n",
              "      <td>C:\\Windows\\servicing\\LCU\\Package_for_RollupFix...</td>\n",
              "      <td>bin</td>\n",
              "      <td>5E9715F50A191733DF7338E2CA37ED86</td>\n",
              "    </tr>\n",
              "    <tr>\n",
              "      <th>84885</th>\n",
              "      <td>--------</td>\n",
              "      <td>2021-07-08 12:41:00</td>\n",
              "      <td>2021-06-10 05:40:00</td>\n",
              "      <td>2021-07-08 12:41:00</td>\n",
              "      <td>301</td>\n",
              "      <td>{a5a7c794-3d59-41df-915f-19acda526fc9}4105.bin</td>\n",
              "      <td>C:\\Windows\\servicing\\LCU\\Package_for_RollupFix...</td>\n",
              "      <td>C:\\Windows\\servicing\\LCU\\Package_for_RollupFix...</td>\n",
              "      <td>bin</td>\n",
              "      <td>5E9715F50A191733DF7338E2CA37ED86</td>\n",
              "    </tr>\n",
              "    <tr>\n",
              "      <th>138197</th>\n",
              "      <td>--------</td>\n",
              "      <td>2021-07-21 18:08:00</td>\n",
              "      <td>2021-06-10 05:40:00</td>\n",
              "      <td>2021-07-21 18:08:00</td>\n",
              "      <td>301</td>\n",
              "      <td>{a5a7c794-3d59-41df-915f-19acda526fc9}4105.bin</td>\n",
              "      <td>C:\\Windows\\servicing\\LCU\\Package_for_RollupFix...</td>\n",
              "      <td>C:\\Windows\\servicing\\LCU\\Package_for_RollupFix...</td>\n",
              "      <td>bin</td>\n",
              "      <td>5E9715F50A191733DF7338E2CA37ED86</td>\n",
              "    </tr>\n",
              "    <tr>\n",
              "      <th>166042</th>\n",
              "      <td>--------</td>\n",
              "      <td>2021-07-21 18:08:00</td>\n",
              "      <td>2021-06-10 05:40:00</td>\n",
              "      <td>2021-07-21 18:08:00</td>\n",
              "      <td>301</td>\n",
              "      <td>{a5a7c794-3d59-41df-915f-19acda526fc9}4105.bin</td>\n",
              "      <td>C:\\Windows\\servicing\\LCU\\Package_for_RollupFix...</td>\n",
              "      <td>C:\\Windows\\servicing\\LCU\\Package_for_RollupFix...</td>\n",
              "      <td>bin</td>\n",
              "      <td>5E9715F50A191733DF7338E2CA37ED86</td>\n",
              "    </tr>\n",
              "  </tbody>\n",
              "</table>\n",
              "<p>255831 rows × 10 columns</p>\n",
              "</div>"
            ],
            "text/plain": [
              "       Attributes             Created  ...     Ext                               Md5\n",
              "224416   ---A---- 2019-12-07 11:14:00  ...  cdf-ms  D6AA98DA11E1ACD3E82998EFAEE3F623\n",
              "224417   ---A---- 2019-12-07 11:51:00  ...  cdf-ms  AF7652FBFF850A0864CC789E42AAA313\n",
              "224418   ---A---- 2019-12-07 11:14:00  ...  cdf-ms  F6A9344D5EBB98EF34AD15788BD9BF3B\n",
              "224419   ---A---- 2019-12-07 11:14:00  ...  cdf-ms  3009EC2BC701A131BFD1A9E52025BC80\n",
              "224420   ---A---- 2019-12-07 11:14:00  ...  cdf-ms  31630B7D032F521C9AC8203819AD2EB1\n",
              "...           ...                 ...  ...     ...                               ...\n",
              "166004   -------- 2021-07-21 18:08:00  ...     bin  88ECF7F38CCD880C509C9706D42B0A42\n",
              "57104    -------- 2021-07-08 12:41:00  ...     bin  5E9715F50A191733DF7338E2CA37ED86\n",
              "84885    -------- 2021-07-08 12:41:00  ...     bin  5E9715F50A191733DF7338E2CA37ED86\n",
              "138197   -------- 2021-07-21 18:08:00  ...     bin  5E9715F50A191733DF7338E2CA37ED86\n",
              "166042   -------- 2021-07-21 18:08:00  ...     bin  5E9715F50A191733DF7338E2CA37ED86\n",
              "\n",
              "[255831 rows x 10 columns]"
            ]
          },
          "metadata": {},
          "execution_count": 48
        }
      ]
    },
    {
      "cell_type": "code",
      "metadata": {
        "colab": {
          "base_uri": "https://localhost:8080/",
          "height": 773
        },
        "id": "ejz-UR5rIRZq",
        "outputId": "c6ea564f-cd95-438a-d6f1-eefcbcebd7dc"
      },
      "source": [
        "df.query('Size>1000000')"
      ],
      "execution_count": null,
      "outputs": [
        {
          "output_type": "execute_result",
          "data": {
            "text/html": [
              "<div>\n",
              "<style scoped>\n",
              "    .dataframe tbody tr th:only-of-type {\n",
              "        vertical-align: middle;\n",
              "    }\n",
              "\n",
              "    .dataframe tbody tr th {\n",
              "        vertical-align: top;\n",
              "    }\n",
              "\n",
              "    .dataframe thead th {\n",
              "        text-align: right;\n",
              "    }\n",
              "</style>\n",
              "<table border=\"1\" class=\"dataframe\">\n",
              "  <thead>\n",
              "    <tr style=\"text-align: right;\">\n",
              "      <th></th>\n",
              "      <th>Attributes</th>\n",
              "      <th>Created</th>\n",
              "      <th>LastMod</th>\n",
              "      <th>LastAcc</th>\n",
              "      <th>Size</th>\n",
              "      <th>Name</th>\n",
              "      <th>Path</th>\n",
              "      <th>Folder</th>\n",
              "      <th>Ext</th>\n",
              "      <th>Md5</th>\n",
              "    </tr>\n",
              "  </thead>\n",
              "  <tbody>\n",
              "    <tr>\n",
              "      <th>2</th>\n",
              "      <td>---A----</td>\n",
              "      <td>2020-08-18 10:52:00</td>\n",
              "      <td>2020-08-18 10:54:00</td>\n",
              "      <td>2021-08-12 20:58:00</td>\n",
              "      <td>3145782</td>\n",
              "      <td>BGInfo.bmp</td>\n",
              "      <td>C:\\Windows\\BGInfo.bmp</td>\n",
              "      <td>C:\\Windows\\</td>\n",
              "      <td>bmp</td>\n",
              "      <td>EC80E9F3112F716063C273FC1F75F552</td>\n",
              "    </tr>\n",
              "    <tr>\n",
              "      <th>11</th>\n",
              "      <td>NaN</td>\n",
              "      <td>2021-07-21 18:11:00</td>\n",
              "      <td>2021-07-21 18:11:00</td>\n",
              "      <td>2021-08-12 20:55:00</td>\n",
              "      <td>4894304</td>\n",
              "      <td>explorer.exe</td>\n",
              "      <td>C:\\Windows\\explorer.exe</td>\n",
              "      <td>C:\\Windows\\</td>\n",
              "      <td>exe</td>\n",
              "      <td>FD5541611456E27D8BF3E90DDA34DC4E</td>\n",
              "    </tr>\n",
              "    <tr>\n",
              "      <th>12</th>\n",
              "      <td>NaN</td>\n",
              "      <td>2021-04-22 19:58:00</td>\n",
              "      <td>2021-04-22 19:58:00</td>\n",
              "      <td>2021-08-12 20:58:00</td>\n",
              "      <td>1076736</td>\n",
              "      <td>HelpPane.exe</td>\n",
              "      <td>C:\\Windows\\HelpPane.exe</td>\n",
              "      <td>C:\\Windows\\</td>\n",
              "      <td>exe</td>\n",
              "      <td>86AE3BE50DF246C646DA76E7223A968E</td>\n",
              "    </tr>\n",
              "    <tr>\n",
              "      <th>29</th>\n",
              "      <td>NaN</td>\n",
              "      <td>2020-08-18 10:55:00</td>\n",
              "      <td>2021-01-19 21:11:00</td>\n",
              "      <td>2021-08-12 20:58:00</td>\n",
              "      <td>2591096</td>\n",
              "      <td>sysmon64.exe</td>\n",
              "      <td>C:\\Windows\\sysmon64.exe</td>\n",
              "      <td>C:\\Windows\\</td>\n",
              "      <td>exe</td>\n",
              "      <td>8A914CFB7496B8461285C009DD8F5627</td>\n",
              "    </tr>\n",
              "    <tr>\n",
              "      <th>40</th>\n",
              "      <td>---A----</td>\n",
              "      <td>2021-04-23 04:33:00</td>\n",
              "      <td>2021-08-12 03:42:00</td>\n",
              "      <td>2021-08-12 20:58:00</td>\n",
              "      <td>2134440</td>\n",
              "      <td>APPRAISER_TelemetryBaseline_21H1.bin</td>\n",
              "      <td>C:\\Windows\\appcompat\\appraiser\\APPRAISER_Telem...</td>\n",
              "      <td>C:\\Windows\\appcompat\\appraiser\\</td>\n",
              "      <td>bin</td>\n",
              "      <td>CFD2B520843FFEB5DE2CDE1AC9D8C702</td>\n",
              "    </tr>\n",
              "    <tr>\n",
              "      <th>...</th>\n",
              "      <td>...</td>\n",
              "      <td>...</td>\n",
              "      <td>...</td>\n",
              "      <td>...</td>\n",
              "      <td>...</td>\n",
              "      <td>...</td>\n",
              "      <td>...</td>\n",
              "      <td>...</td>\n",
              "      <td>...</td>\n",
              "      <td>...</td>\n",
              "    </tr>\n",
              "    <tr>\n",
              "      <th>255805</th>\n",
              "      <td>NaN</td>\n",
              "      <td>2019-12-07 11:10:00</td>\n",
              "      <td>2019-12-07 11:29:00</td>\n",
              "      <td>2021-07-08 19:36:00</td>\n",
              "      <td>1645522</td>\n",
              "      <td>System.ServiceModel.dll</td>\n",
              "      <td>C:\\Windows\\WinSxS\\x86_wcf-system.servicemodel_...</td>\n",
              "      <td>C:\\Windows\\WinSxS\\x86_wcf-system.servicemodel_...</td>\n",
              "      <td>dll</td>\n",
              "      <td>EC4666DE4B22AA2AAB14747C457491F8</td>\n",
              "    </tr>\n",
              "    <tr>\n",
              "      <th>255806</th>\n",
              "      <td>NaN</td>\n",
              "      <td>2020-11-19 04:44:00</td>\n",
              "      <td>2020-11-19 04:57:00</td>\n",
              "      <td>2021-07-08 19:35:00</td>\n",
              "      <td>1645234</td>\n",
              "      <td>System.ServiceModel.dll</td>\n",
              "      <td>C:\\Windows\\WinSxS\\x86_wcf-system.servicemodel_...</td>\n",
              "      <td>C:\\Windows\\WinSxS\\x86_wcf-system.servicemodel_...</td>\n",
              "      <td>dll</td>\n",
              "      <td>B696345964D0A57F086E618FCA33CC5F</td>\n",
              "    </tr>\n",
              "    <tr>\n",
              "      <th>255818</th>\n",
              "      <td>NaN</td>\n",
              "      <td>2020-11-19 04:44:00</td>\n",
              "      <td>2020-11-19 04:57:00</td>\n",
              "      <td>2021-07-08 19:35:00</td>\n",
              "      <td>1563880</td>\n",
              "      <td>PresentationFramework.dll</td>\n",
              "      <td>C:\\Windows\\WinSxS\\x86_wpf-presentationframewor...</td>\n",
              "      <td>C:\\Windows\\WinSxS\\x86_wpf-presentationframewor...</td>\n",
              "      <td>dll</td>\n",
              "      <td>7FD9160DC15A44B701CFCE1B462DE616</td>\n",
              "    </tr>\n",
              "    <tr>\n",
              "      <th>255819</th>\n",
              "      <td>NaN</td>\n",
              "      <td>2021-04-22 20:02:00</td>\n",
              "      <td>2020-09-05 04:07:00</td>\n",
              "      <td>2021-07-08 19:35:00</td>\n",
              "      <td>5292032</td>\n",
              "      <td>PresentationFramework.dll</td>\n",
              "      <td>C:\\Windows\\WinSxS\\x86_wpf-presentationframewor...</td>\n",
              "      <td>C:\\Windows\\WinSxS\\x86_wpf-presentationframewor...</td>\n",
              "      <td>dll</td>\n",
              "      <td>C05744DB2DAD288DDA70D04A8FAD5C28</td>\n",
              "    </tr>\n",
              "    <tr>\n",
              "      <th>255827</th>\n",
              "      <td>NaN</td>\n",
              "      <td>2021-04-22 20:02:00</td>\n",
              "      <td>2020-09-05 03:54:00</td>\n",
              "      <td>2021-07-08 19:35:00</td>\n",
              "      <td>1257472</td>\n",
              "      <td>WindowsBase.dll</td>\n",
              "      <td>C:\\Windows\\WinSxS\\x86_wpf-windowsbase_31bf3856...</td>\n",
              "      <td>C:\\Windows\\WinSxS\\x86_wpf-windowsbase_31bf3856...</td>\n",
              "      <td>dll</td>\n",
              "      <td>8280BBD8640ECF3826460903760D9774</td>\n",
              "    </tr>\n",
              "  </tbody>\n",
              "</table>\n",
              "<p>3230 rows × 10 columns</p>\n",
              "</div>"
            ],
            "text/plain": [
              "       Attributes             Created  ...  Ext                               Md5\n",
              "2        ---A---- 2020-08-18 10:52:00  ...  bmp  EC80E9F3112F716063C273FC1F75F552\n",
              "11            NaN 2021-07-21 18:11:00  ...  exe  FD5541611456E27D8BF3E90DDA34DC4E\n",
              "12            NaN 2021-04-22 19:58:00  ...  exe  86AE3BE50DF246C646DA76E7223A968E\n",
              "29            NaN 2020-08-18 10:55:00  ...  exe  8A914CFB7496B8461285C009DD8F5627\n",
              "40       ---A---- 2021-04-23 04:33:00  ...  bin  CFD2B520843FFEB5DE2CDE1AC9D8C702\n",
              "...           ...                 ...  ...  ...                               ...\n",
              "255805        NaN 2019-12-07 11:10:00  ...  dll  EC4666DE4B22AA2AAB14747C457491F8\n",
              "255806        NaN 2020-11-19 04:44:00  ...  dll  B696345964D0A57F086E618FCA33CC5F\n",
              "255818        NaN 2020-11-19 04:44:00  ...  dll  7FD9160DC15A44B701CFCE1B462DE616\n",
              "255819        NaN 2021-04-22 20:02:00  ...  dll  C05744DB2DAD288DDA70D04A8FAD5C28\n",
              "255827        NaN 2021-04-22 20:02:00  ...  dll  8280BBD8640ECF3826460903760D9774\n",
              "\n",
              "[3230 rows x 10 columns]"
            ]
          },
          "metadata": {},
          "execution_count": 49
        }
      ]
    },
    {
      "cell_type": "code",
      "metadata": {
        "colab": {
          "base_uri": "https://localhost:8080/",
          "height": 773
        },
        "id": "rVTGXkhnIffm",
        "outputId": "f007e471-1a27-478f-f6a1-a7b218b40065"
      },
      "source": [
        "# use column names as Python attributes to filter with multiple clauses \n",
        "df[(df.Size>100000) & (df.Size<1000000)]"
      ],
      "execution_count": null,
      "outputs": [
        {
          "output_type": "execute_result",
          "data": {
            "text/html": [
              "<div>\n",
              "<style scoped>\n",
              "    .dataframe tbody tr th:only-of-type {\n",
              "        vertical-align: middle;\n",
              "    }\n",
              "\n",
              "    .dataframe tbody tr th {\n",
              "        vertical-align: top;\n",
              "    }\n",
              "\n",
              "    .dataframe thead th {\n",
              "        text-align: right;\n",
              "    }\n",
              "</style>\n",
              "<table border=\"1\" class=\"dataframe\">\n",
              "  <thead>\n",
              "    <tr style=\"text-align: right;\">\n",
              "      <th></th>\n",
              "      <th>Attributes</th>\n",
              "      <th>Created</th>\n",
              "      <th>LastMod</th>\n",
              "      <th>LastAcc</th>\n",
              "      <th>Size</th>\n",
              "      <th>Name</th>\n",
              "      <th>Path</th>\n",
              "      <th>Folder</th>\n",
              "      <th>Ext</th>\n",
              "      <th>Md5</th>\n",
              "    </tr>\n",
              "  </thead>\n",
              "  <tbody>\n",
              "    <tr>\n",
              "      <th>16</th>\n",
              "      <td>NaN</td>\n",
              "      <td>2021-07-08 12:47:00</td>\n",
              "      <td>2021-07-08 12:47:00</td>\n",
              "      <td>2021-08-10 11:26:00</td>\n",
              "      <td>211968</td>\n",
              "      <td>notepad.exe</td>\n",
              "      <td>C:\\Windows\\notepad.exe</td>\n",
              "      <td>C:\\Windows\\</td>\n",
              "      <td>exe</td>\n",
              "      <td>1C1760ED4D19CDBECB2398216922628B</td>\n",
              "    </tr>\n",
              "    <tr>\n",
              "      <th>20</th>\n",
              "      <td>NaN</td>\n",
              "      <td>2019-12-18 23:26:00</td>\n",
              "      <td>2019-12-18 23:26:00</td>\n",
              "      <td>2021-08-12 20:58:00</td>\n",
              "      <td>909896</td>\n",
              "      <td>py.exe</td>\n",
              "      <td>C:\\Windows\\py.exe</td>\n",
              "      <td>C:\\Windows\\</td>\n",
              "      <td>exe</td>\n",
              "      <td>A2CE303C3713D3BD12529C960EC84C2F</td>\n",
              "    </tr>\n",
              "    <tr>\n",
              "      <th>22</th>\n",
              "      <td>NaN</td>\n",
              "      <td>2019-12-18 23:26:00</td>\n",
              "      <td>2019-12-18 23:26:00</td>\n",
              "      <td>2021-08-12 20:58:00</td>\n",
              "      <td>909896</td>\n",
              "      <td>pyw.exe</td>\n",
              "      <td>C:\\Windows\\pyw.exe</td>\n",
              "      <td>C:\\Windows\\</td>\n",
              "      <td>exe</td>\n",
              "      <td>83E42FE58809E861324AF64FA6CAD9AF</td>\n",
              "    </tr>\n",
              "    <tr>\n",
              "      <th>23</th>\n",
              "      <td>NaN</td>\n",
              "      <td>2021-04-22 19:58:00</td>\n",
              "      <td>2021-04-22 19:58:00</td>\n",
              "      <td>2021-07-21 18:04:00</td>\n",
              "      <td>370176</td>\n",
              "      <td>regedit.exe</td>\n",
              "      <td>C:\\Windows\\regedit.exe</td>\n",
              "      <td>C:\\Windows\\</td>\n",
              "      <td>exe</td>\n",
              "      <td>BD63D72DB4FA96A1E0250B1D36B7A827</td>\n",
              "    </tr>\n",
              "    <tr>\n",
              "      <th>28</th>\n",
              "      <td>NaN</td>\n",
              "      <td>2021-07-08 12:45:00</td>\n",
              "      <td>2021-07-08 12:45:00</td>\n",
              "      <td>2021-08-12 20:56:00</td>\n",
              "      <td>136192</td>\n",
              "      <td>splwow64.exe</td>\n",
              "      <td>C:\\Windows\\splwow64.exe</td>\n",
              "      <td>C:\\Windows\\</td>\n",
              "      <td>exe</td>\n",
              "      <td>04D8E1F5355152807A7B8EB12F18C61F</td>\n",
              "    </tr>\n",
              "    <tr>\n",
              "      <th>...</th>\n",
              "      <td>...</td>\n",
              "      <td>...</td>\n",
              "      <td>...</td>\n",
              "      <td>...</td>\n",
              "      <td>...</td>\n",
              "      <td>...</td>\n",
              "      <td>...</td>\n",
              "      <td>...</td>\n",
              "      <td>...</td>\n",
              "      <td>...</td>\n",
              "    </tr>\n",
              "    <tr>\n",
              "      <th>255825</th>\n",
              "      <td>NaN</td>\n",
              "      <td>2021-04-22 20:02:00</td>\n",
              "      <td>2020-09-05 03:54:00</td>\n",
              "      <td>2021-07-08 19:35:00</td>\n",
              "      <td>536576</td>\n",
              "      <td>ReachFramework.dll</td>\n",
              "      <td>C:\\Windows\\WinSxS\\x86_wpf-reachframework_31bf3...</td>\n",
              "      <td>C:\\Windows\\WinSxS\\x86_wpf-reachframework_31bf3...</td>\n",
              "      <td>dll</td>\n",
              "      <td>B608A2F11885485F06B7D03C21ACAD9E</td>\n",
              "    </tr>\n",
              "    <tr>\n",
              "      <th>255826</th>\n",
              "      <td>NaN</td>\n",
              "      <td>2020-11-19 04:44:00</td>\n",
              "      <td>2020-11-19 04:57:00</td>\n",
              "      <td>2021-07-08 19:35:00</td>\n",
              "      <td>375276</td>\n",
              "      <td>WindowsBase.dll</td>\n",
              "      <td>C:\\Windows\\WinSxS\\x86_wpf-windowsbase_31bf3856...</td>\n",
              "      <td>C:\\Windows\\WinSxS\\x86_wpf-windowsbase_31bf3856...</td>\n",
              "      <td>dll</td>\n",
              "      <td>4F6CFC1F7C771075F17D039EB24C6276</td>\n",
              "    </tr>\n",
              "    <tr>\n",
              "      <th>255828</th>\n",
              "      <td>NaN</td>\n",
              "      <td>2020-11-19 04:44:00</td>\n",
              "      <td>2020-11-19 04:57:00</td>\n",
              "      <td>2021-07-08 19:35:00</td>\n",
              "      <td>312556</td>\n",
              "      <td>System.Workflow.Activities.dll</td>\n",
              "      <td>C:\\Windows\\WinSxS\\x86_wwf-system.workflow.acti...</td>\n",
              "      <td>C:\\Windows\\WinSxS\\x86_wwf-system.workflow.acti...</td>\n",
              "      <td>dll</td>\n",
              "      <td>DE9176C367D11585D297ACC50E113676</td>\n",
              "    </tr>\n",
              "    <tr>\n",
              "      <th>255829</th>\n",
              "      <td>NaN</td>\n",
              "      <td>2020-11-19 04:44:00</td>\n",
              "      <td>2020-11-19 04:57:00</td>\n",
              "      <td>2021-07-08 19:35:00</td>\n",
              "      <td>484222</td>\n",
              "      <td>System.Workflow.ComponentModel.dll</td>\n",
              "      <td>C:\\Windows\\WinSxS\\x86_wwf-system.workflow.comp...</td>\n",
              "      <td>C:\\Windows\\WinSxS\\x86_wwf-system.workflow.comp...</td>\n",
              "      <td>dll</td>\n",
              "      <td>B92ADB66E47707BDDCC62B850A4201E3</td>\n",
              "    </tr>\n",
              "    <tr>\n",
              "      <th>255830</th>\n",
              "      <td>NaN</td>\n",
              "      <td>2020-11-19 04:44:00</td>\n",
              "      <td>2020-11-19 04:57:00</td>\n",
              "      <td>2021-07-08 19:35:00</td>\n",
              "      <td>149554</td>\n",
              "      <td>System.Workflow.Runtime.dll</td>\n",
              "      <td>C:\\Windows\\WinSxS\\x86_wwf-system.workflow.runt...</td>\n",
              "      <td>C:\\Windows\\WinSxS\\x86_wwf-system.workflow.runt...</td>\n",
              "      <td>dll</td>\n",
              "      <td>412EF3105A13CF3111539C74E7B7F190</td>\n",
              "    </tr>\n",
              "  </tbody>\n",
              "</table>\n",
              "<p>15842 rows × 10 columns</p>\n",
              "</div>"
            ],
            "text/plain": [
              "       Attributes             Created  ...  Ext                               Md5\n",
              "16            NaN 2021-07-08 12:47:00  ...  exe  1C1760ED4D19CDBECB2398216922628B\n",
              "20            NaN 2019-12-18 23:26:00  ...  exe  A2CE303C3713D3BD12529C960EC84C2F\n",
              "22            NaN 2019-12-18 23:26:00  ...  exe  83E42FE58809E861324AF64FA6CAD9AF\n",
              "23            NaN 2021-04-22 19:58:00  ...  exe  BD63D72DB4FA96A1E0250B1D36B7A827\n",
              "28            NaN 2021-07-08 12:45:00  ...  exe  04D8E1F5355152807A7B8EB12F18C61F\n",
              "...           ...                 ...  ...  ...                               ...\n",
              "255825        NaN 2021-04-22 20:02:00  ...  dll  B608A2F11885485F06B7D03C21ACAD9E\n",
              "255826        NaN 2020-11-19 04:44:00  ...  dll  4F6CFC1F7C771075F17D039EB24C6276\n",
              "255828        NaN 2020-11-19 04:44:00  ...  dll  DE9176C367D11585D297ACC50E113676\n",
              "255829        NaN 2020-11-19 04:44:00  ...  dll  B92ADB66E47707BDDCC62B850A4201E3\n",
              "255830        NaN 2020-11-19 04:44:00  ...  dll  412EF3105A13CF3111539C74E7B7F190\n",
              "\n",
              "[15842 rows x 10 columns]"
            ]
          },
          "metadata": {},
          "execution_count": 50
        }
      ]
    },
    {
      "cell_type": "code",
      "metadata": {
        "colab": {
          "base_uri": "https://localhost:8080/",
          "height": 773
        },
        "id": "jtO9lMeHJQY9",
        "outputId": "af45010d-2e7f-48c4-ae13-4813e2f37401"
      },
      "source": [
        "# or access columns with the df[] syntax\n",
        "df[(df['Size']>100000) & (df['Size']<1000000)]"
      ],
      "execution_count": null,
      "outputs": [
        {
          "output_type": "execute_result",
          "data": {
            "text/html": [
              "<div>\n",
              "<style scoped>\n",
              "    .dataframe tbody tr th:only-of-type {\n",
              "        vertical-align: middle;\n",
              "    }\n",
              "\n",
              "    .dataframe tbody tr th {\n",
              "        vertical-align: top;\n",
              "    }\n",
              "\n",
              "    .dataframe thead th {\n",
              "        text-align: right;\n",
              "    }\n",
              "</style>\n",
              "<table border=\"1\" class=\"dataframe\">\n",
              "  <thead>\n",
              "    <tr style=\"text-align: right;\">\n",
              "      <th></th>\n",
              "      <th>Attributes</th>\n",
              "      <th>Created</th>\n",
              "      <th>LastMod</th>\n",
              "      <th>LastAcc</th>\n",
              "      <th>Size</th>\n",
              "      <th>Name</th>\n",
              "      <th>Path</th>\n",
              "      <th>Folder</th>\n",
              "      <th>Ext</th>\n",
              "      <th>Md5</th>\n",
              "    </tr>\n",
              "  </thead>\n",
              "  <tbody>\n",
              "    <tr>\n",
              "      <th>16</th>\n",
              "      <td>NaN</td>\n",
              "      <td>2021-07-08 12:47:00</td>\n",
              "      <td>2021-07-08 12:47:00</td>\n",
              "      <td>2021-08-10 11:26:00</td>\n",
              "      <td>211968</td>\n",
              "      <td>notepad.exe</td>\n",
              "      <td>C:\\Windows\\notepad.exe</td>\n",
              "      <td>C:\\Windows\\</td>\n",
              "      <td>exe</td>\n",
              "      <td>1C1760ED4D19CDBECB2398216922628B</td>\n",
              "    </tr>\n",
              "    <tr>\n",
              "      <th>20</th>\n",
              "      <td>NaN</td>\n",
              "      <td>2019-12-18 23:26:00</td>\n",
              "      <td>2019-12-18 23:26:00</td>\n",
              "      <td>2021-08-12 20:58:00</td>\n",
              "      <td>909896</td>\n",
              "      <td>py.exe</td>\n",
              "      <td>C:\\Windows\\py.exe</td>\n",
              "      <td>C:\\Windows\\</td>\n",
              "      <td>exe</td>\n",
              "      <td>A2CE303C3713D3BD12529C960EC84C2F</td>\n",
              "    </tr>\n",
              "    <tr>\n",
              "      <th>22</th>\n",
              "      <td>NaN</td>\n",
              "      <td>2019-12-18 23:26:00</td>\n",
              "      <td>2019-12-18 23:26:00</td>\n",
              "      <td>2021-08-12 20:58:00</td>\n",
              "      <td>909896</td>\n",
              "      <td>pyw.exe</td>\n",
              "      <td>C:\\Windows\\pyw.exe</td>\n",
              "      <td>C:\\Windows\\</td>\n",
              "      <td>exe</td>\n",
              "      <td>83E42FE58809E861324AF64FA6CAD9AF</td>\n",
              "    </tr>\n",
              "    <tr>\n",
              "      <th>23</th>\n",
              "      <td>NaN</td>\n",
              "      <td>2021-04-22 19:58:00</td>\n",
              "      <td>2021-04-22 19:58:00</td>\n",
              "      <td>2021-07-21 18:04:00</td>\n",
              "      <td>370176</td>\n",
              "      <td>regedit.exe</td>\n",
              "      <td>C:\\Windows\\regedit.exe</td>\n",
              "      <td>C:\\Windows\\</td>\n",
              "      <td>exe</td>\n",
              "      <td>BD63D72DB4FA96A1E0250B1D36B7A827</td>\n",
              "    </tr>\n",
              "    <tr>\n",
              "      <th>28</th>\n",
              "      <td>NaN</td>\n",
              "      <td>2021-07-08 12:45:00</td>\n",
              "      <td>2021-07-08 12:45:00</td>\n",
              "      <td>2021-08-12 20:56:00</td>\n",
              "      <td>136192</td>\n",
              "      <td>splwow64.exe</td>\n",
              "      <td>C:\\Windows\\splwow64.exe</td>\n",
              "      <td>C:\\Windows\\</td>\n",
              "      <td>exe</td>\n",
              "      <td>04D8E1F5355152807A7B8EB12F18C61F</td>\n",
              "    </tr>\n",
              "    <tr>\n",
              "      <th>...</th>\n",
              "      <td>...</td>\n",
              "      <td>...</td>\n",
              "      <td>...</td>\n",
              "      <td>...</td>\n",
              "      <td>...</td>\n",
              "      <td>...</td>\n",
              "      <td>...</td>\n",
              "      <td>...</td>\n",
              "      <td>...</td>\n",
              "      <td>...</td>\n",
              "    </tr>\n",
              "    <tr>\n",
              "      <th>255825</th>\n",
              "      <td>NaN</td>\n",
              "      <td>2021-04-22 20:02:00</td>\n",
              "      <td>2020-09-05 03:54:00</td>\n",
              "      <td>2021-07-08 19:35:00</td>\n",
              "      <td>536576</td>\n",
              "      <td>ReachFramework.dll</td>\n",
              "      <td>C:\\Windows\\WinSxS\\x86_wpf-reachframework_31bf3...</td>\n",
              "      <td>C:\\Windows\\WinSxS\\x86_wpf-reachframework_31bf3...</td>\n",
              "      <td>dll</td>\n",
              "      <td>B608A2F11885485F06B7D03C21ACAD9E</td>\n",
              "    </tr>\n",
              "    <tr>\n",
              "      <th>255826</th>\n",
              "      <td>NaN</td>\n",
              "      <td>2020-11-19 04:44:00</td>\n",
              "      <td>2020-11-19 04:57:00</td>\n",
              "      <td>2021-07-08 19:35:00</td>\n",
              "      <td>375276</td>\n",
              "      <td>WindowsBase.dll</td>\n",
              "      <td>C:\\Windows\\WinSxS\\x86_wpf-windowsbase_31bf3856...</td>\n",
              "      <td>C:\\Windows\\WinSxS\\x86_wpf-windowsbase_31bf3856...</td>\n",
              "      <td>dll</td>\n",
              "      <td>4F6CFC1F7C771075F17D039EB24C6276</td>\n",
              "    </tr>\n",
              "    <tr>\n",
              "      <th>255828</th>\n",
              "      <td>NaN</td>\n",
              "      <td>2020-11-19 04:44:00</td>\n",
              "      <td>2020-11-19 04:57:00</td>\n",
              "      <td>2021-07-08 19:35:00</td>\n",
              "      <td>312556</td>\n",
              "      <td>System.Workflow.Activities.dll</td>\n",
              "      <td>C:\\Windows\\WinSxS\\x86_wwf-system.workflow.acti...</td>\n",
              "      <td>C:\\Windows\\WinSxS\\x86_wwf-system.workflow.acti...</td>\n",
              "      <td>dll</td>\n",
              "      <td>DE9176C367D11585D297ACC50E113676</td>\n",
              "    </tr>\n",
              "    <tr>\n",
              "      <th>255829</th>\n",
              "      <td>NaN</td>\n",
              "      <td>2020-11-19 04:44:00</td>\n",
              "      <td>2020-11-19 04:57:00</td>\n",
              "      <td>2021-07-08 19:35:00</td>\n",
              "      <td>484222</td>\n",
              "      <td>System.Workflow.ComponentModel.dll</td>\n",
              "      <td>C:\\Windows\\WinSxS\\x86_wwf-system.workflow.comp...</td>\n",
              "      <td>C:\\Windows\\WinSxS\\x86_wwf-system.workflow.comp...</td>\n",
              "      <td>dll</td>\n",
              "      <td>B92ADB66E47707BDDCC62B850A4201E3</td>\n",
              "    </tr>\n",
              "    <tr>\n",
              "      <th>255830</th>\n",
              "      <td>NaN</td>\n",
              "      <td>2020-11-19 04:44:00</td>\n",
              "      <td>2020-11-19 04:57:00</td>\n",
              "      <td>2021-07-08 19:35:00</td>\n",
              "      <td>149554</td>\n",
              "      <td>System.Workflow.Runtime.dll</td>\n",
              "      <td>C:\\Windows\\WinSxS\\x86_wwf-system.workflow.runt...</td>\n",
              "      <td>C:\\Windows\\WinSxS\\x86_wwf-system.workflow.runt...</td>\n",
              "      <td>dll</td>\n",
              "      <td>412EF3105A13CF3111539C74E7B7F190</td>\n",
              "    </tr>\n",
              "  </tbody>\n",
              "</table>\n",
              "<p>15842 rows × 10 columns</p>\n",
              "</div>"
            ],
            "text/plain": [
              "       Attributes             Created  ...  Ext                               Md5\n",
              "16            NaN 2021-07-08 12:47:00  ...  exe  1C1760ED4D19CDBECB2398216922628B\n",
              "20            NaN 2019-12-18 23:26:00  ...  exe  A2CE303C3713D3BD12529C960EC84C2F\n",
              "22            NaN 2019-12-18 23:26:00  ...  exe  83E42FE58809E861324AF64FA6CAD9AF\n",
              "23            NaN 2021-04-22 19:58:00  ...  exe  BD63D72DB4FA96A1E0250B1D36B7A827\n",
              "28            NaN 2021-07-08 12:45:00  ...  exe  04D8E1F5355152807A7B8EB12F18C61F\n",
              "...           ...                 ...  ...  ...                               ...\n",
              "255825        NaN 2021-04-22 20:02:00  ...  dll  B608A2F11885485F06B7D03C21ACAD9E\n",
              "255826        NaN 2020-11-19 04:44:00  ...  dll  4F6CFC1F7C771075F17D039EB24C6276\n",
              "255828        NaN 2020-11-19 04:44:00  ...  dll  DE9176C367D11585D297ACC50E113676\n",
              "255829        NaN 2020-11-19 04:44:00  ...  dll  B92ADB66E47707BDDCC62B850A4201E3\n",
              "255830        NaN 2020-11-19 04:44:00  ...  dll  412EF3105A13CF3111539C74E7B7F190\n",
              "\n",
              "[15842 rows x 10 columns]"
            ]
          },
          "metadata": {},
          "execution_count": 51
        }
      ]
    },
    {
      "cell_type": "code",
      "metadata": {
        "colab": {
          "base_uri": "https://localhost:8080/",
          "height": 773
        },
        "id": "mLL8Ykir1UDK",
        "outputId": "b19a689e-b173-4ef3-97e8-d2d04c06dc00"
      },
      "source": [
        "# we can use regular expressions to filter through the data. For more \n",
        "# information see: https://docs.python.org/3/howto/regex.html\n",
        "#\n",
        "# For example we want to select all files with name System.*.dll where\n",
        "# * is not white space. In regex this is denoted by \\S\n",
        "#\n",
        "df[df.Name.str.match(r'(System[\\S]+.dll)')==True]"
      ],
      "execution_count": null,
      "outputs": [
        {
          "output_type": "execute_result",
          "data": {
            "text/html": [
              "<div>\n",
              "<style scoped>\n",
              "    .dataframe tbody tr th:only-of-type {\n",
              "        vertical-align: middle;\n",
              "    }\n",
              "\n",
              "    .dataframe tbody tr th {\n",
              "        vertical-align: top;\n",
              "    }\n",
              "\n",
              "    .dataframe thead th {\n",
              "        text-align: right;\n",
              "    }\n",
              "</style>\n",
              "<table border=\"1\" class=\"dataframe\">\n",
              "  <thead>\n",
              "    <tr style=\"text-align: right;\">\n",
              "      <th></th>\n",
              "      <th>Attributes</th>\n",
              "      <th>Created</th>\n",
              "      <th>LastMod</th>\n",
              "      <th>LastAcc</th>\n",
              "      <th>Size</th>\n",
              "      <th>Name</th>\n",
              "      <th>Path</th>\n",
              "      <th>Folder</th>\n",
              "      <th>Ext</th>\n",
              "      <th>Md5</th>\n",
              "    </tr>\n",
              "  </thead>\n",
              "  <tbody>\n",
              "    <tr>\n",
              "      <th>182</th>\n",
              "      <td>NaN</td>\n",
              "      <td>2019-12-07 11:09:00</td>\n",
              "      <td>2019-12-07 11:09:00</td>\n",
              "      <td>2021-08-12 20:58:00</td>\n",
              "      <td>3010560</td>\n",
              "      <td>System.Management.Automation.dll</td>\n",
              "      <td>C:\\Windows\\assembly\\GAC_MSIL\\System.Management...</td>\n",
              "      <td>C:\\Windows\\assembly\\GAC_MSIL\\System.Management...</td>\n",
              "      <td>dll</td>\n",
              "      <td>6CA7D39D5E569CC91538DD29B88FDAEA</td>\n",
              "    </tr>\n",
              "    <tr>\n",
              "      <th>183</th>\n",
              "      <td>NaN</td>\n",
              "      <td>2019-12-07 11:49:00</td>\n",
              "      <td>2019-12-07 11:49:00</td>\n",
              "      <td>2021-08-12 20:58:00</td>\n",
              "      <td>253952</td>\n",
              "      <td>System.Management.Automation.Resources.dll</td>\n",
              "      <td>C:\\Windows\\assembly\\GAC_MSIL\\System.Management...</td>\n",
              "      <td>C:\\Windows\\assembly\\GAC_MSIL\\System.Management...</td>\n",
              "      <td>dll</td>\n",
              "      <td>1EDD1805695D0359F26427AE951F8C49</td>\n",
              "    </tr>\n",
              "    <tr>\n",
              "      <th>310</th>\n",
              "      <td>NaN</td>\n",
              "      <td>2021-08-10 11:31:00</td>\n",
              "      <td>2021-08-10 11:31:00</td>\n",
              "      <td>2021-08-12 20:58:00</td>\n",
              "      <td>10827776</td>\n",
              "      <td>System.ni.dll</td>\n",
              "      <td>C:\\Windows\\assembly\\NativeImages_v4.0.30319_32...</td>\n",
              "      <td>C:\\Windows\\assembly\\NativeImages_v4.0.30319_32...</td>\n",
              "      <td>dll</td>\n",
              "      <td>8A9F2A41BD8B8042BD67C23F99E2AF5E</td>\n",
              "    </tr>\n",
              "    <tr>\n",
              "      <th>311</th>\n",
              "      <td>---A----</td>\n",
              "      <td>2021-08-10 11:31:00</td>\n",
              "      <td>2021-08-10 11:31:00</td>\n",
              "      <td>2021-08-12 20:58:00</td>\n",
              "      <td>620</td>\n",
              "      <td>System.ni.dll.aux</td>\n",
              "      <td>C:\\Windows\\assembly\\NativeImages_v4.0.30319_32...</td>\n",
              "      <td>C:\\Windows\\assembly\\NativeImages_v4.0.30319_32...</td>\n",
              "      <td>aux</td>\n",
              "      <td>066AFE666317E5B1E2E06B1C3250B46B</td>\n",
              "    </tr>\n",
              "    <tr>\n",
              "      <th>312</th>\n",
              "      <td>NaN</td>\n",
              "      <td>2021-08-10 11:31:00</td>\n",
              "      <td>2021-08-10 11:31:00</td>\n",
              "      <td>2021-08-12 20:58:00</td>\n",
              "      <td>1060352</td>\n",
              "      <td>System.Configuration.ni.dll</td>\n",
              "      <td>C:\\Windows\\assembly\\NativeImages_v4.0.30319_32...</td>\n",
              "      <td>C:\\Windows\\assembly\\NativeImages_v4.0.30319_32...</td>\n",
              "      <td>dll</td>\n",
              "      <td>3C2C6EAADDE0E2750907EFAEB20C975C</td>\n",
              "    </tr>\n",
              "    <tr>\n",
              "      <th>...</th>\n",
              "      <td>...</td>\n",
              "      <td>...</td>\n",
              "      <td>...</td>\n",
              "      <td>...</td>\n",
              "      <td>...</td>\n",
              "      <td>...</td>\n",
              "      <td>...</td>\n",
              "      <td>...</td>\n",
              "      <td>...</td>\n",
              "      <td>...</td>\n",
              "    </tr>\n",
              "    <tr>\n",
              "      <th>255805</th>\n",
              "      <td>NaN</td>\n",
              "      <td>2019-12-07 11:10:00</td>\n",
              "      <td>2019-12-07 11:29:00</td>\n",
              "      <td>2021-07-08 19:36:00</td>\n",
              "      <td>1645522</td>\n",
              "      <td>System.ServiceModel.dll</td>\n",
              "      <td>C:\\Windows\\WinSxS\\x86_wcf-system.servicemodel_...</td>\n",
              "      <td>C:\\Windows\\WinSxS\\x86_wcf-system.servicemodel_...</td>\n",
              "      <td>dll</td>\n",
              "      <td>EC4666DE4B22AA2AAB14747C457491F8</td>\n",
              "    </tr>\n",
              "    <tr>\n",
              "      <th>255806</th>\n",
              "      <td>NaN</td>\n",
              "      <td>2020-11-19 04:44:00</td>\n",
              "      <td>2020-11-19 04:57:00</td>\n",
              "      <td>2021-07-08 19:35:00</td>\n",
              "      <td>1645234</td>\n",
              "      <td>System.ServiceModel.dll</td>\n",
              "      <td>C:\\Windows\\WinSxS\\x86_wcf-system.servicemodel_...</td>\n",
              "      <td>C:\\Windows\\WinSxS\\x86_wcf-system.servicemodel_...</td>\n",
              "      <td>dll</td>\n",
              "      <td>B696345964D0A57F086E618FCA33CC5F</td>\n",
              "    </tr>\n",
              "    <tr>\n",
              "      <th>255828</th>\n",
              "      <td>NaN</td>\n",
              "      <td>2020-11-19 04:44:00</td>\n",
              "      <td>2020-11-19 04:57:00</td>\n",
              "      <td>2021-07-08 19:35:00</td>\n",
              "      <td>312556</td>\n",
              "      <td>System.Workflow.Activities.dll</td>\n",
              "      <td>C:\\Windows\\WinSxS\\x86_wwf-system.workflow.acti...</td>\n",
              "      <td>C:\\Windows\\WinSxS\\x86_wwf-system.workflow.acti...</td>\n",
              "      <td>dll</td>\n",
              "      <td>DE9176C367D11585D297ACC50E113676</td>\n",
              "    </tr>\n",
              "    <tr>\n",
              "      <th>255829</th>\n",
              "      <td>NaN</td>\n",
              "      <td>2020-11-19 04:44:00</td>\n",
              "      <td>2020-11-19 04:57:00</td>\n",
              "      <td>2021-07-08 19:35:00</td>\n",
              "      <td>484222</td>\n",
              "      <td>System.Workflow.ComponentModel.dll</td>\n",
              "      <td>C:\\Windows\\WinSxS\\x86_wwf-system.workflow.comp...</td>\n",
              "      <td>C:\\Windows\\WinSxS\\x86_wwf-system.workflow.comp...</td>\n",
              "      <td>dll</td>\n",
              "      <td>B92ADB66E47707BDDCC62B850A4201E3</td>\n",
              "    </tr>\n",
              "    <tr>\n",
              "      <th>255830</th>\n",
              "      <td>NaN</td>\n",
              "      <td>2020-11-19 04:44:00</td>\n",
              "      <td>2020-11-19 04:57:00</td>\n",
              "      <td>2021-07-08 19:35:00</td>\n",
              "      <td>149554</td>\n",
              "      <td>System.Workflow.Runtime.dll</td>\n",
              "      <td>C:\\Windows\\WinSxS\\x86_wwf-system.workflow.runt...</td>\n",
              "      <td>C:\\Windows\\WinSxS\\x86_wwf-system.workflow.runt...</td>\n",
              "      <td>dll</td>\n",
              "      <td>412EF3105A13CF3111539C74E7B7F190</td>\n",
              "    </tr>\n",
              "  </tbody>\n",
              "</table>\n",
              "<p>1117 rows × 10 columns</p>\n",
              "</div>"
            ],
            "text/plain": [
              "       Attributes             Created  ...  Ext                               Md5\n",
              "182           NaN 2019-12-07 11:09:00  ...  dll  6CA7D39D5E569CC91538DD29B88FDAEA\n",
              "183           NaN 2019-12-07 11:49:00  ...  dll  1EDD1805695D0359F26427AE951F8C49\n",
              "310           NaN 2021-08-10 11:31:00  ...  dll  8A9F2A41BD8B8042BD67C23F99E2AF5E\n",
              "311      ---A---- 2021-08-10 11:31:00  ...  aux  066AFE666317E5B1E2E06B1C3250B46B\n",
              "312           NaN 2021-08-10 11:31:00  ...  dll  3C2C6EAADDE0E2750907EFAEB20C975C\n",
              "...           ...                 ...  ...  ...                               ...\n",
              "255805        NaN 2019-12-07 11:10:00  ...  dll  EC4666DE4B22AA2AAB14747C457491F8\n",
              "255806        NaN 2020-11-19 04:44:00  ...  dll  B696345964D0A57F086E618FCA33CC5F\n",
              "255828        NaN 2020-11-19 04:44:00  ...  dll  DE9176C367D11585D297ACC50E113676\n",
              "255829        NaN 2020-11-19 04:44:00  ...  dll  B92ADB66E47707BDDCC62B850A4201E3\n",
              "255830        NaN 2020-11-19 04:44:00  ...  dll  412EF3105A13CF3111539C74E7B7F190\n",
              "\n",
              "[1117 rows x 10 columns]"
            ]
          },
          "metadata": {},
          "execution_count": 52
        }
      ]
    },
    {
      "cell_type": "markdown",
      "metadata": {
        "id": "z4jt2PbVzqVB"
      },
      "source": [
        "## 10 Generating pivot tables"
      ]
    },
    {
      "cell_type": "code",
      "metadata": {
        "colab": {
          "base_uri": "https://localhost:8080/",
          "height": 478
        },
        "id": "yb1PcKgDJj5v",
        "outputId": "e4d9f02a-159c-44d6-fcda-fff4a6d9fd82"
      },
      "source": [
        "# generate a pivot tabel listing the number of files and total size per extension\n",
        "#\n",
        "df.pivot_table(index='Ext',values='Size',aggfunc=['sum','count'])\n"
      ],
      "execution_count": null,
      "outputs": [
        {
          "output_type": "execute_result",
          "data": {
            "text/html": [
              "<div>\n",
              "<style scoped>\n",
              "    .dataframe tbody tr th:only-of-type {\n",
              "        vertical-align: middle;\n",
              "    }\n",
              "\n",
              "    .dataframe tbody tr th {\n",
              "        vertical-align: top;\n",
              "    }\n",
              "\n",
              "    .dataframe thead tr th {\n",
              "        text-align: left;\n",
              "    }\n",
              "\n",
              "    .dataframe thead tr:last-of-type th {\n",
              "        text-align: right;\n",
              "    }\n",
              "</style>\n",
              "<table border=\"1\" class=\"dataframe\">\n",
              "  <thead>\n",
              "    <tr>\n",
              "      <th></th>\n",
              "      <th>sum</th>\n",
              "      <th>count</th>\n",
              "    </tr>\n",
              "    <tr>\n",
              "      <th></th>\n",
              "      <th>Size</th>\n",
              "      <th>Size</th>\n",
              "    </tr>\n",
              "    <tr>\n",
              "      <th>Ext</th>\n",
              "      <th></th>\n",
              "      <th></th>\n",
              "    </tr>\n",
              "  </thead>\n",
              "  <tbody>\n",
              "    <tr>\n",
              "      <th>1</th>\n",
              "      <td>5242880</td>\n",
              "      <td>1</td>\n",
              "    </tr>\n",
              "    <tr>\n",
              "      <th>11</th>\n",
              "      <td>19398656</td>\n",
              "      <td>3</td>\n",
              "    </tr>\n",
              "    <tr>\n",
              "      <th>1033</th>\n",
              "      <td>10581544</td>\n",
              "      <td>4</td>\n",
              "    </tr>\n",
              "    <tr>\n",
              "      <th>05F0B5F5_44A8_3793_976B_A4F17AECF92C</th>\n",
              "      <td>5939664</td>\n",
              "      <td>9</td>\n",
              "    </tr>\n",
              "    <tr>\n",
              "      <th>07275332_82E4_4820_9FDD_2423CD8DAA85</th>\n",
              "      <td>55164096</td>\n",
              "      <td>152</td>\n",
              "    </tr>\n",
              "    <tr>\n",
              "      <th>...</th>\n",
              "      <td>...</td>\n",
              "      <td>...</td>\n",
              "    </tr>\n",
              "    <tr>\n",
              "      <th>xslt</th>\n",
              "      <td>12672</td>\n",
              "      <td>10</td>\n",
              "    </tr>\n",
              "    <tr>\n",
              "      <th>xsx</th>\n",
              "      <td>844</td>\n",
              "      <td>4</td>\n",
              "    </tr>\n",
              "    <tr>\n",
              "      <th>yaml</th>\n",
              "      <td>97787</td>\n",
              "      <td>15</td>\n",
              "    </tr>\n",
              "    <tr>\n",
              "      <th>yfx</th>\n",
              "      <td>48030</td>\n",
              "      <td>15</td>\n",
              "    </tr>\n",
              "    <tr>\n",
              "      <th>zfsendtotarget</th>\n",
              "      <td>184</td>\n",
              "      <td>4</td>\n",
              "    </tr>\n",
              "  </tbody>\n",
              "</table>\n",
              "<p>1066 rows × 2 columns</p>\n",
              "</div>"
            ],
            "text/plain": [
              "                                           sum count\n",
              "                                          Size  Size\n",
              "Ext                                                 \n",
              "1                                      5242880     1\n",
              "11                                    19398656     3\n",
              "1033                                  10581544     4\n",
              "05F0B5F5_44A8_3793_976B_A4F17AECF92C   5939664     9\n",
              "07275332_82E4_4820_9FDD_2423CD8DAA85  55164096   152\n",
              "...                                        ...   ...\n",
              "xslt                                     12672    10\n",
              "xsx                                        844     4\n",
              "yaml                                     97787    15\n",
              "yfx                                      48030    15\n",
              "zfsendtotarget                             184     4\n",
              "\n",
              "[1066 rows x 2 columns]"
            ]
          },
          "metadata": {},
          "execution_count": 53
        }
      ]
    },
    {
      "cell_type": "code",
      "metadata": {
        "colab": {
          "base_uri": "https://localhost:8080/",
          "height": 134
        },
        "id": "seWjiUzyZP2S",
        "outputId": "caa5dad2-a5fd-4a42-d921-9af30aa451f0"
      },
      "source": [
        "# There are actually 5 entries for zfsendtotarget. The Ext column has data in lower case and upper case\n",
        "#\n",
        "df[df.Ext=='ZFSendToTarget']"
      ],
      "execution_count": null,
      "outputs": [
        {
          "output_type": "execute_result",
          "data": {
            "text/html": [
              "<div>\n",
              "<style scoped>\n",
              "    .dataframe tbody tr th:only-of-type {\n",
              "        vertical-align: middle;\n",
              "    }\n",
              "\n",
              "    .dataframe tbody tr th {\n",
              "        vertical-align: top;\n",
              "    }\n",
              "\n",
              "    .dataframe thead th {\n",
              "        text-align: right;\n",
              "    }\n",
              "</style>\n",
              "<table border=\"1\" class=\"dataframe\">\n",
              "  <thead>\n",
              "    <tr style=\"text-align: right;\">\n",
              "      <th></th>\n",
              "      <th>Attributes</th>\n",
              "      <th>Created</th>\n",
              "      <th>LastMod</th>\n",
              "      <th>LastAcc</th>\n",
              "      <th>Size</th>\n",
              "      <th>Name</th>\n",
              "      <th>Path</th>\n",
              "      <th>Folder</th>\n",
              "      <th>Ext</th>\n",
              "      <th>Md5</th>\n",
              "    </tr>\n",
              "  </thead>\n",
              "  <tbody>\n",
              "    <tr>\n",
              "      <th>218117</th>\n",
              "      <td>---A----</td>\n",
              "      <td>2019-12-07 11:08:00</td>\n",
              "      <td>2019-12-07 11:08:00</td>\n",
              "      <td>2021-07-08 19:38:00</td>\n",
              "      <td>3</td>\n",
              "      <td>Compressed (zipped) Folder.ZFSendToTarget</td>\n",
              "      <td>C:\\Windows\\WinSxS\\amd64_microsoft-windows-zipf...</td>\n",
              "      <td>C:\\Windows\\WinSxS\\amd64_microsoft-windows-zipf...</td>\n",
              "      <td>ZFSendToTarget</td>\n",
              "      <td>963AB0BBEA32F1F9D19AFB00D08BE14D</td>\n",
              "    </tr>\n",
              "  </tbody>\n",
              "</table>\n",
              "</div>"
            ],
            "text/plain": [
              "       Attributes  ...                               Md5\n",
              "218117   ---A----  ...  963AB0BBEA32F1F9D19AFB00D08BE14D\n",
              "\n",
              "[1 rows x 10 columns]"
            ]
          },
          "metadata": {},
          "execution_count": 54
        }
      ]
    },
    {
      "cell_type": "code",
      "metadata": {
        "id": "hO-BSPSWZ50W"
      },
      "source": [
        "# in order to change to lower case we have to convert the object type of column Ext to string\n",
        "df['Ext']=df['Ext'].astype('|S').str.decode(\"utf-8\")"
      ],
      "execution_count": null,
      "outputs": []
    },
    {
      "cell_type": "code",
      "metadata": {
        "colab": {
          "base_uri": "https://localhost:8080/"
        },
        "id": "Qs4iU4m-PeWZ",
        "outputId": "90714dac-8f19-4cb7-f558-ba4f661d7b5a"
      },
      "source": [
        "df.dtypes"
      ],
      "execution_count": null,
      "outputs": [
        {
          "output_type": "execute_result",
          "data": {
            "text/plain": [
              "Attributes            object\n",
              "Created       datetime64[ns]\n",
              "LastMod       datetime64[ns]\n",
              "LastAcc       datetime64[ns]\n",
              "Size                   int64\n",
              "Name                  object\n",
              "Path                  object\n",
              "Folder                object\n",
              "Ext                   object\n",
              "Md5                   object\n",
              "dtype: object"
            ]
          },
          "metadata": {},
          "execution_count": 56
        }
      ]
    },
    {
      "cell_type": "code",
      "metadata": {
        "id": "OAOutQ9KeQb-"
      },
      "source": [
        "# now we can change the Ext colum to lower case\n",
        "df['Ext']=df['Ext'].str.lower()"
      ],
      "execution_count": null,
      "outputs": []
    },
    {
      "cell_type": "code",
      "metadata": {
        "colab": {
          "base_uri": "https://localhost:8080/",
          "height": 478
        },
        "id": "n80LBVA2eZTx",
        "outputId": "fb5d3b81-7c60-4f76-864e-5ff012a24b66"
      },
      "source": [
        "# let's create the same pivot table as before\n",
        "df.pivot_table(index='Ext',values='Size',aggfunc=['sum','count'])"
      ],
      "execution_count": null,
      "outputs": [
        {
          "output_type": "execute_result",
          "data": {
            "text/html": [
              "<div>\n",
              "<style scoped>\n",
              "    .dataframe tbody tr th:only-of-type {\n",
              "        vertical-align: middle;\n",
              "    }\n",
              "\n",
              "    .dataframe tbody tr th {\n",
              "        vertical-align: top;\n",
              "    }\n",
              "\n",
              "    .dataframe thead tr th {\n",
              "        text-align: left;\n",
              "    }\n",
              "\n",
              "    .dataframe thead tr:last-of-type th {\n",
              "        text-align: right;\n",
              "    }\n",
              "</style>\n",
              "<table border=\"1\" class=\"dataframe\">\n",
              "  <thead>\n",
              "    <tr>\n",
              "      <th></th>\n",
              "      <th>sum</th>\n",
              "      <th>count</th>\n",
              "    </tr>\n",
              "    <tr>\n",
              "      <th></th>\n",
              "      <th>Size</th>\n",
              "      <th>Size</th>\n",
              "    </tr>\n",
              "    <tr>\n",
              "      <th>Ext</th>\n",
              "      <th></th>\n",
              "      <th></th>\n",
              "    </tr>\n",
              "  </thead>\n",
              "  <tbody>\n",
              "    <tr>\n",
              "      <th>05f0b5f5_44a8_3793_976b_a4f17aecf92c</th>\n",
              "      <td>5939664</td>\n",
              "      <td>9</td>\n",
              "    </tr>\n",
              "    <tr>\n",
              "      <th>07275332_82e4_4820_9fdd_2423cd8daa85</th>\n",
              "      <td>55164096</td>\n",
              "      <td>152</td>\n",
              "    </tr>\n",
              "    <tr>\n",
              "      <th>1</th>\n",
              "      <td>5242880</td>\n",
              "      <td>1</td>\n",
              "    </tr>\n",
              "    <tr>\n",
              "      <th>1033</th>\n",
              "      <td>10581544</td>\n",
              "      <td>4</td>\n",
              "    </tr>\n",
              "    <tr>\n",
              "      <th>11</th>\n",
              "      <td>19398656</td>\n",
              "      <td>3</td>\n",
              "    </tr>\n",
              "    <tr>\n",
              "      <th>...</th>\n",
              "      <td>...</td>\n",
              "      <td>...</td>\n",
              "    </tr>\n",
              "    <tr>\n",
              "      <th>xslt</th>\n",
              "      <td>12672</td>\n",
              "      <td>10</td>\n",
              "    </tr>\n",
              "    <tr>\n",
              "      <th>xsx</th>\n",
              "      <td>844</td>\n",
              "      <td>4</td>\n",
              "    </tr>\n",
              "    <tr>\n",
              "      <th>yaml</th>\n",
              "      <td>97787</td>\n",
              "      <td>15</td>\n",
              "    </tr>\n",
              "    <tr>\n",
              "      <th>yfx</th>\n",
              "      <td>48030</td>\n",
              "      <td>15</td>\n",
              "    </tr>\n",
              "    <tr>\n",
              "      <th>zfsendtotarget</th>\n",
              "      <td>187</td>\n",
              "      <td>5</td>\n",
              "    </tr>\n",
              "  </tbody>\n",
              "</table>\n",
              "<p>1024 rows × 2 columns</p>\n",
              "</div>"
            ],
            "text/plain": [
              "                                           sum count\n",
              "                                          Size  Size\n",
              "Ext                                                 \n",
              "05f0b5f5_44a8_3793_976b_a4f17aecf92c   5939664     9\n",
              "07275332_82e4_4820_9fdd_2423cd8daa85  55164096   152\n",
              "1                                      5242880     1\n",
              "1033                                  10581544     4\n",
              "11                                    19398656     3\n",
              "...                                        ...   ...\n",
              "xslt                                     12672    10\n",
              "xsx                                        844     4\n",
              "yaml                                     97787    15\n",
              "yfx                                      48030    15\n",
              "zfsendtotarget                             187     5\n",
              "\n",
              "[1024 rows x 2 columns]"
            ]
          },
          "metadata": {},
          "execution_count": 58
        }
      ]
    },
    {
      "cell_type": "code",
      "metadata": {
        "id": "V3fonOoRe6Pe"
      },
      "source": [
        "# the number of entries in our pivot table has been reduced to 1024 and the zfsendtotarget increased from 4 to 5"
      ],
      "execution_count": null,
      "outputs": []
    },
    {
      "cell_type": "markdown",
      "metadata": {
        "id": "pasaP5RbyExW"
      },
      "source": [
        "## 11 Analysing and removing duplicates\n"
      ]
    },
    {
      "cell_type": "code",
      "metadata": {
        "colab": {
          "base_uri": "https://localhost:8080/"
        },
        "id": "aBBSnjOq4LuQ",
        "outputId": "81eb5f7b-9653-4e1e-f8ed-4204268a7bb3"
      },
      "source": [
        "# With the dataframe duplicated method we can detect duplicates in a panda dataframe\n",
        "#\n",
        "# also see: https://pandas.pydata.org/docs/reference/api/pandas.DataFrame.duplicated.html\n",
        "\n",
        "df.duplicated('Name')"
      ],
      "execution_count": null,
      "outputs": [
        {
          "output_type": "execute_result",
          "data": {
            "text/plain": [
              "0         False\n",
              "1         False\n",
              "2         False\n",
              "3         False\n",
              "4         False\n",
              "          ...  \n",
              "255826     True\n",
              "255827     True\n",
              "255828     True\n",
              "255829     True\n",
              "255830     True\n",
              "Length: 255831, dtype: bool"
            ]
          },
          "metadata": {},
          "execution_count": 59
        }
      ]
    },
    {
      "cell_type": "code",
      "metadata": {
        "colab": {
          "base_uri": "https://localhost:8080/"
        },
        "id": "GZEhvKC0yDhg",
        "outputId": "053a57db-9d9d-4b7b-ccd5-8a53cb4c21ee"
      },
      "source": [
        "# the original df has 255831 rows. Here is how we can drop rows with duplicate file names\n",
        "# using the drop_duplicates method\n",
        "#\n",
        "# https://pandas.pydata.org/docs/reference/api/pandas.DataFrame.drop_duplicates.html\n",
        "#\n",
        "df.drop_duplicates('Name', keep='last').shape"
      ],
      "execution_count": null,
      "outputs": [
        {
          "output_type": "execute_result",
          "data": {
            "text/plain": [
              "(98976, 10)"
            ]
          },
          "metadata": {},
          "execution_count": 61
        }
      ]
    },
    {
      "cell_type": "code",
      "metadata": {
        "colab": {
          "base_uri": "https://localhost:8080/"
        },
        "id": "3BBiAX99yXAy",
        "outputId": "f8c4e396-1ecb-4cea-c037-dc587d530068"
      },
      "source": [
        "# it's less as we can expect. We can also define duplicates based on multiple columns:\n",
        "#\n",
        "df.drop_duplicates(['Name','Size',], keep='last').shape"
      ],
      "execution_count": null,
      "outputs": [
        {
          "output_type": "execute_result",
          "data": {
            "text/plain": [
              "(143948, 10)"
            ]
          },
          "metadata": {},
          "execution_count": 62
        }
      ]
    },
    {
      "cell_type": "code",
      "metadata": {
        "colab": {
          "base_uri": "https://localhost:8080/"
        },
        "id": "HgU_-2SGXpL3",
        "outputId": "57cf549f-00df-4d0b-b8a9-b3f943da9575"
      },
      "source": [
        "from google.colab import drive\n",
        "drive.mount('/content/drive')\n"
      ],
      "execution_count": null,
      "outputs": [
        {
          "output_type": "stream",
          "text": [
            "Mounted at /content/drive\n"
          ],
          "name": "stdout"
        }
      ]
    },
    {
      "cell_type": "markdown",
      "metadata": {
        "id": "COuYu3VB4eWx"
      },
      "source": [
        "# Exercises"
      ]
    },
    {
      "cell_type": "markdown",
      "metadata": {
        "id": "LaYmywfvfN8a"
      },
      "source": [
        "## 1 Use a regular expression to select office files based on file extension"
      ]
    },
    {
      "cell_type": "code",
      "metadata": {
        "id": "L70aaaGafhN2"
      },
      "source": [
        "# Your answer"
      ],
      "execution_count": null,
      "outputs": []
    },
    {
      "cell_type": "markdown",
      "metadata": {
        "id": "2f1EIQk41_cP"
      },
      "source": [
        "## 2 Remove duplicate entries in df based on the md5 value. "
      ]
    },
    {
      "cell_type": "code",
      "metadata": {
        "id": "Uh8EeJNV3OEr"
      },
      "source": [
        "# your answer"
      ],
      "execution_count": null,
      "outputs": []
    },
    {
      "cell_type": "markdown",
      "metadata": {
        "id": "66BLClud3Onb"
      },
      "source": [
        "## 3 For a given file, find if it has duplicates and list the folders where duplicates are located"
      ]
    },
    {
      "cell_type": "code",
      "metadata": {
        "id": "UzPBh5_F2Edy"
      },
      "source": [
        "# your answer"
      ],
      "execution_count": null,
      "outputs": []
    },
    {
      "cell_type": "markdown",
      "metadata": {
        "id": "xZspxb6M4JW5"
      },
      "source": [
        "## 4 Create a pivot table showing number of files per month based on data last modified"
      ]
    },
    {
      "cell_type": "markdown",
      "metadata": {
        "id": "4YgF2hkdw-Uy"
      },
      "source": [
        "## 5 Create a pivot table listing number of files vs file extension"
      ]
    },
    {
      "cell_type": "code",
      "metadata": {
        "id": "vX8iMHjU48Lb"
      },
      "source": [
        "# your answer"
      ],
      "execution_count": null,
      "outputs": []
    },
    {
      "cell_type": "markdown",
      "metadata": {
        "id": "ZcoPwxOJvtIJ"
      },
      "source": [
        "## 6 Make a DirPrint file from your own computer\n",
        "\n",
        "The DirPrint xlsx file was created with Karen's DirPrinter. This tool can be downloaded from:\n",
        "\n",
        "https://www.karenware.com/powertools/karens-directory-printer\n",
        "\n",
        "Download and install DirPrinter and use it to examine your own computer. \n",
        "Select your own user folder and don't forget to check the box for subfolders."
      ]
    },
    {
      "cell_type": "code",
      "metadata": {
        "id": "aD5VDTzgvrn9"
      },
      "source": [
        ""
      ],
      "execution_count": null,
      "outputs": []
    }
  ]
}